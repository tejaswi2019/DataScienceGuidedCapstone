{
  "nbformat": 4,
  "nbformat_minor": 0,
  "metadata": {
    "colab": {
      "name": "Capstone2 Hypothesis testing",
      "provenance": [],
      "collapsed_sections": []
    },
    "kernelspec": {
      "name": "python3",
      "display_name": "Python 3"
    },
    "language_info": {
      "name": "python"
    }
  },
  "cells": [
    {
      "cell_type": "markdown",
      "metadata": {
        "id": "i9HtXkjWkalz"
      },
      "source": [
        "Monthly deaths\n",
        "\n",
        "H0: Every month deaths are increasing\n",
        "H1: Every month deaths are not increasing\n"
      ]
    },
    {
      "cell_type": "code",
      "metadata": {
        "colab": {
          "base_uri": "https://localhost:8080/"
        },
        "id": "lkhkYAr4kgZ5",
        "outputId": "c53e64ba-9287-4347-aaac-974ed8a72bd4"
      },
      "source": [
        "\n",
        "from google.colab import drive\n",
        "drive.mount('/content/drive')"
      ],
      "execution_count": 1,
      "outputs": [
        {
          "output_type": "stream",
          "name": "stdout",
          "text": [
            "Mounted at /content/drive\n"
          ]
        }
      ]
    },
    {
      "cell_type": "code",
      "metadata": {
        "id": "6wjObI_buP_J"
      },
      "source": [
        "# data loading\n",
        "import pandas as pd\n",
        "import statsmodels\n",
        "from matplotlib import pyplot\n",
        "import matplotlib.pyplot as plt\n",
        "from statsmodels.tsa.stattools import adfuller\n",
        "from scipy import stats\n",
        "import numpy as np\n",
        "import statsmodels.stats.multicomp as multicomp"
      ],
      "execution_count": 14,
      "outputs": []
    },
    {
      "cell_type": "code",
      "metadata": {
        "colab": {
          "base_uri": "https://localhost:8080/"
        },
        "id": "YUay40b7uI4q",
        "outputId": "e6950c22-7c7c-4b8c-8aa6-a44d87f0afc5"
      },
      "source": [
        "EDA_file = pd.read_csv(\"/content/drive/MyDrive/Springboard/outputfilename.csv\")\n",
        "EDA_file = EDA_file.drop(columns=['state_fips_code', 'res_county','county_fips_code','ethnicity','case_positive_specimen_interval','case_onset_interval'])\n",
        "\n",
        "#EDA_file.head(5)"
      ],
      "execution_count": 3,
      "outputs": [
        {
          "output_type": "stream",
          "name": "stderr",
          "text": [
            "/usr/local/lib/python3.7/dist-packages/IPython/core/interactiveshell.py:2718: DtypeWarning: Columns (3) have mixed types.Specify dtype option on import or set low_memory=False.\n",
            "  interactivity=interactivity, compiler=compiler, result=result)\n"
          ]
        }
      ]
    },
    {
      "cell_type": "code",
      "metadata": {
        "colab": {
          "base_uri": "https://localhost:8080/",
          "height": 204
        },
        "id": "r3-gHZ_hwpP0",
        "outputId": "a2ad3913-9519-4272-d936-525486391a6d"
      },
      "source": [
        "EDA_file=EDA_file.loc[(EDA_file['death_yn'].isin(['Yes','No'])) & (EDA_file['age_group'].isin(['18 to 49 years','50 to 64 years','65+ years','0 - 17 years'])) & EDA_file['sex'].isin(['Female','Male']) & \n",
        "                                  EDA_file['race'].isin(['White','Black','Asian','American Indian/Alaska Native','Native Hawaiian/Other Pacific Islander','Multiple/Other','Unknown'])\n",
        "                                  & (~EDA_file['process'].isin(['Other'])) & (~EDA_file['underlying_conditions_yn'].isnull())]\n",
        "EDA_file.head()"
      ],
      "execution_count": 4,
      "outputs": [
        {
          "output_type": "execute_result",
          "data": {
            "text/html": [
              "<div>\n",
              "<style scoped>\n",
              "    .dataframe tbody tr th:only-of-type {\n",
              "        vertical-align: middle;\n",
              "    }\n",
              "\n",
              "    .dataframe tbody tr th {\n",
              "        vertical-align: top;\n",
              "    }\n",
              "\n",
              "    .dataframe thead th {\n",
              "        text-align: right;\n",
              "    }\n",
              "</style>\n",
              "<table border=\"1\" class=\"dataframe\">\n",
              "  <thead>\n",
              "    <tr style=\"text-align: right;\">\n",
              "      <th></th>\n",
              "      <th>case_month</th>\n",
              "      <th>res_state</th>\n",
              "      <th>age_group</th>\n",
              "      <th>sex</th>\n",
              "      <th>race</th>\n",
              "      <th>process</th>\n",
              "      <th>exposure_yn</th>\n",
              "      <th>current_status</th>\n",
              "      <th>symptom_status</th>\n",
              "      <th>hosp_yn</th>\n",
              "      <th>icu_yn</th>\n",
              "      <th>death_yn</th>\n",
              "      <th>underlying_conditions_yn</th>\n",
              "    </tr>\n",
              "  </thead>\n",
              "  <tbody>\n",
              "    <tr>\n",
              "      <th>35</th>\n",
              "      <td>2020-09</td>\n",
              "      <td>NC</td>\n",
              "      <td>18 to 49 years</td>\n",
              "      <td>Female</td>\n",
              "      <td>Black</td>\n",
              "      <td>Missing</td>\n",
              "      <td>Yes</td>\n",
              "      <td>Laboratory-confirmed case</td>\n",
              "      <td>Symptomatic</td>\n",
              "      <td>No</td>\n",
              "      <td>Unknown</td>\n",
              "      <td>No</td>\n",
              "      <td>Yes</td>\n",
              "    </tr>\n",
              "    <tr>\n",
              "      <th>140</th>\n",
              "      <td>2020-07</td>\n",
              "      <td>KS</td>\n",
              "      <td>18 to 49 years</td>\n",
              "      <td>Male</td>\n",
              "      <td>White</td>\n",
              "      <td>Laboratory reported</td>\n",
              "      <td>Missing</td>\n",
              "      <td>Laboratory-confirmed case</td>\n",
              "      <td>Symptomatic</td>\n",
              "      <td>Unknown</td>\n",
              "      <td>No</td>\n",
              "      <td>No</td>\n",
              "      <td>Yes</td>\n",
              "    </tr>\n",
              "    <tr>\n",
              "      <th>202</th>\n",
              "      <td>2020-08</td>\n",
              "      <td>NC</td>\n",
              "      <td>50 to 64 years</td>\n",
              "      <td>Female</td>\n",
              "      <td>Black</td>\n",
              "      <td>Missing</td>\n",
              "      <td>Missing</td>\n",
              "      <td>Laboratory-confirmed case</td>\n",
              "      <td>Symptomatic</td>\n",
              "      <td>No</td>\n",
              "      <td>Unknown</td>\n",
              "      <td>No</td>\n",
              "      <td>Yes</td>\n",
              "    </tr>\n",
              "    <tr>\n",
              "      <th>231</th>\n",
              "      <td>2020-08</td>\n",
              "      <td>IA</td>\n",
              "      <td>18 to 49 years</td>\n",
              "      <td>Male</td>\n",
              "      <td>White</td>\n",
              "      <td>Clinical evaluation</td>\n",
              "      <td>Unknown</td>\n",
              "      <td>Laboratory-confirmed case</td>\n",
              "      <td>Symptomatic</td>\n",
              "      <td>No</td>\n",
              "      <td>No</td>\n",
              "      <td>No</td>\n",
              "      <td>Yes</td>\n",
              "    </tr>\n",
              "    <tr>\n",
              "      <th>327</th>\n",
              "      <td>2020-12</td>\n",
              "      <td>NC</td>\n",
              "      <td>0 - 17 years</td>\n",
              "      <td>Female</td>\n",
              "      <td>White</td>\n",
              "      <td>Missing</td>\n",
              "      <td>Unknown</td>\n",
              "      <td>Laboratory-confirmed case</td>\n",
              "      <td>Symptomatic</td>\n",
              "      <td>No</td>\n",
              "      <td>Unknown</td>\n",
              "      <td>No</td>\n",
              "      <td>Yes</td>\n",
              "    </tr>\n",
              "  </tbody>\n",
              "</table>\n",
              "</div>"
            ],
            "text/plain": [
              "    case_month res_state  ... death_yn underlying_conditions_yn\n",
              "35     2020-09        NC  ...       No                      Yes\n",
              "140    2020-07        KS  ...       No                      Yes\n",
              "202    2020-08        NC  ...       No                      Yes\n",
              "231    2020-08        IA  ...       No                      Yes\n",
              "327    2020-12        NC  ...       No                      Yes\n",
              "\n",
              "[5 rows x 13 columns]"
            ]
          },
          "metadata": {},
          "execution_count": 4
        }
      ]
    },
    {
      "cell_type": "code",
      "metadata": {
        "colab": {
          "base_uri": "https://localhost:8080/",
          "height": 204
        },
        "id": "YjRf37jnyoz9",
        "outputId": "9f1f5d55-387b-4b26-efd2-63ef9973cf32"
      },
      "source": [
        "df = EDA_file.groupby(['case_month','res_state','sex','race','process','exposure_yn','symptom_status','hosp_yn','current_status','age_group','underlying_conditions_yn','icu_yn'])['death_yn'].agg(['count']).reset_index()\n",
        "\n",
        "df.head()"
      ],
      "execution_count": 5,
      "outputs": [
        {
          "output_type": "execute_result",
          "data": {
            "text/html": [
              "<div>\n",
              "<style scoped>\n",
              "    .dataframe tbody tr th:only-of-type {\n",
              "        vertical-align: middle;\n",
              "    }\n",
              "\n",
              "    .dataframe tbody tr th {\n",
              "        vertical-align: top;\n",
              "    }\n",
              "\n",
              "    .dataframe thead th {\n",
              "        text-align: right;\n",
              "    }\n",
              "</style>\n",
              "<table border=\"1\" class=\"dataframe\">\n",
              "  <thead>\n",
              "    <tr style=\"text-align: right;\">\n",
              "      <th></th>\n",
              "      <th>case_month</th>\n",
              "      <th>res_state</th>\n",
              "      <th>sex</th>\n",
              "      <th>race</th>\n",
              "      <th>process</th>\n",
              "      <th>exposure_yn</th>\n",
              "      <th>symptom_status</th>\n",
              "      <th>hosp_yn</th>\n",
              "      <th>current_status</th>\n",
              "      <th>age_group</th>\n",
              "      <th>underlying_conditions_yn</th>\n",
              "      <th>icu_yn</th>\n",
              "      <th>count</th>\n",
              "    </tr>\n",
              "  </thead>\n",
              "  <tbody>\n",
              "    <tr>\n",
              "      <th>0</th>\n",
              "      <td>2020-01</td>\n",
              "      <td>NJ</td>\n",
              "      <td>Female</td>\n",
              "      <td>White</td>\n",
              "      <td>Missing</td>\n",
              "      <td>Missing</td>\n",
              "      <td>Missing</td>\n",
              "      <td>Yes</td>\n",
              "      <td>Laboratory-confirmed case</td>\n",
              "      <td>18 to 49 years</td>\n",
              "      <td>Yes</td>\n",
              "      <td>Missing</td>\n",
              "      <td>3</td>\n",
              "    </tr>\n",
              "    <tr>\n",
              "      <th>1</th>\n",
              "      <td>2020-01</td>\n",
              "      <td>NJ</td>\n",
              "      <td>Female</td>\n",
              "      <td>White</td>\n",
              "      <td>Missing</td>\n",
              "      <td>Missing</td>\n",
              "      <td>Unknown</td>\n",
              "      <td>Yes</td>\n",
              "      <td>Laboratory-confirmed case</td>\n",
              "      <td>18 to 49 years</td>\n",
              "      <td>Yes</td>\n",
              "      <td>Unknown</td>\n",
              "      <td>3</td>\n",
              "    </tr>\n",
              "    <tr>\n",
              "      <th>2</th>\n",
              "      <td>2020-01</td>\n",
              "      <td>NJ</td>\n",
              "      <td>Male</td>\n",
              "      <td>White</td>\n",
              "      <td>Missing</td>\n",
              "      <td>Missing</td>\n",
              "      <td>Symptomatic</td>\n",
              "      <td>Yes</td>\n",
              "      <td>Laboratory-confirmed case</td>\n",
              "      <td>65+ years</td>\n",
              "      <td>Yes</td>\n",
              "      <td>Unknown</td>\n",
              "      <td>1</td>\n",
              "    </tr>\n",
              "    <tr>\n",
              "      <th>3</th>\n",
              "      <td>2020-01</td>\n",
              "      <td>NJ</td>\n",
              "      <td>Male</td>\n",
              "      <td>White</td>\n",
              "      <td>Missing</td>\n",
              "      <td>Missing</td>\n",
              "      <td>Unknown</td>\n",
              "      <td>Yes</td>\n",
              "      <td>Laboratory-confirmed case</td>\n",
              "      <td>65+ years</td>\n",
              "      <td>Yes</td>\n",
              "      <td>Unknown</td>\n",
              "      <td>2</td>\n",
              "    </tr>\n",
              "    <tr>\n",
              "      <th>4</th>\n",
              "      <td>2020-02</td>\n",
              "      <td>NY</td>\n",
              "      <td>Male</td>\n",
              "      <td>Unknown</td>\n",
              "      <td>Missing</td>\n",
              "      <td>Missing</td>\n",
              "      <td>Symptomatic</td>\n",
              "      <td>Yes</td>\n",
              "      <td>Laboratory-confirmed case</td>\n",
              "      <td>50 to 64 years</td>\n",
              "      <td>Yes</td>\n",
              "      <td>No</td>\n",
              "      <td>1</td>\n",
              "    </tr>\n",
              "  </tbody>\n",
              "</table>\n",
              "</div>"
            ],
            "text/plain": [
              "  case_month res_state     sex  ... underlying_conditions_yn   icu_yn count\n",
              "0    2020-01        NJ  Female  ...                      Yes  Missing     3\n",
              "1    2020-01        NJ  Female  ...                      Yes  Unknown     3\n",
              "2    2020-01        NJ    Male  ...                      Yes  Unknown     1\n",
              "3    2020-01        NJ    Male  ...                      Yes  Unknown     2\n",
              "4    2020-02        NY    Male  ...                      Yes       No     1\n",
              "\n",
              "[5 rows x 13 columns]"
            ]
          },
          "metadata": {},
          "execution_count": 5
        }
      ]
    },
    {
      "cell_type": "code",
      "metadata": {
        "colab": {
          "base_uri": "https://localhost:8080/",
          "height": 204
        },
        "id": "WXndu-k1ywF0",
        "outputId": "6a929e0e-dcc3-40f9-c71a-15b30cb04306"
      },
      "source": [
        "month_df = df.groupby(['case_month']).sum('count').reset_index()\n",
        "month_df = month_df.sort_values(by = month_df.columns[1])\n",
        "\n",
        "month_df.head()"
      ],
      "execution_count": 6,
      "outputs": [
        {
          "output_type": "execute_result",
          "data": {
            "text/html": [
              "<div>\n",
              "<style scoped>\n",
              "    .dataframe tbody tr th:only-of-type {\n",
              "        vertical-align: middle;\n",
              "    }\n",
              "\n",
              "    .dataframe tbody tr th {\n",
              "        vertical-align: top;\n",
              "    }\n",
              "\n",
              "    .dataframe thead th {\n",
              "        text-align: right;\n",
              "    }\n",
              "</style>\n",
              "<table border=\"1\" class=\"dataframe\">\n",
              "  <thead>\n",
              "    <tr style=\"text-align: right;\">\n",
              "      <th></th>\n",
              "      <th>case_month</th>\n",
              "      <th>count</th>\n",
              "    </tr>\n",
              "  </thead>\n",
              "  <tbody>\n",
              "    <tr>\n",
              "      <th>0</th>\n",
              "      <td>2020-01</td>\n",
              "      <td>9</td>\n",
              "    </tr>\n",
              "    <tr>\n",
              "      <th>1</th>\n",
              "      <td>2020-02</td>\n",
              "      <td>29</td>\n",
              "    </tr>\n",
              "    <tr>\n",
              "      <th>19</th>\n",
              "      <td>2021-08</td>\n",
              "      <td>88</td>\n",
              "    </tr>\n",
              "    <tr>\n",
              "      <th>17</th>\n",
              "      <td>2021-06</td>\n",
              "      <td>4841</td>\n",
              "    </tr>\n",
              "    <tr>\n",
              "      <th>16</th>\n",
              "      <td>2021-05</td>\n",
              "      <td>16741</td>\n",
              "    </tr>\n",
              "  </tbody>\n",
              "</table>\n",
              "</div>"
            ],
            "text/plain": [
              "   case_month  count\n",
              "0     2020-01      9\n",
              "1     2020-02     29\n",
              "19    2021-08     88\n",
              "17    2021-06   4841\n",
              "16    2021-05  16741"
            ]
          },
          "metadata": {},
          "execution_count": 6
        }
      ]
    },
    {
      "cell_type": "code",
      "metadata": {
        "id": "b7ZT3T7mZcHp"
      },
      "source": [
        "#month_df['case_month'].dtype\n",
        "#month_df['case_month']=pd.to_datetime(month_df['case_month'])\n",
        "#month_df.set_index('case_month', inplace=True)\n",
        "\n",
        "#month_df['case_month'].dtype\n",
        "#series = month_df.loc[:, 'case_month'].values\n",
        "#series\n",
        "X = month_df['count']\n",
        "\n",
        "\n",
        " "
      ],
      "execution_count": 7,
      "outputs": []
    },
    {
      "cell_type": "code",
      "metadata": {
        "colab": {
          "base_uri": "https://localhost:8080/"
        },
        "id": "WnZENIZUfilH",
        "outputId": "c8db99b0-ed93-412f-b3fb-57965145e9f1"
      },
      "source": [
        "#ADF test\n",
        "\n",
        "result = adfuller(X)\n",
        "\n",
        "print(f'ADF Statistic: {result[0]}')\n",
        "print(f'n_lags: {result[1]}')\n",
        "print(f'p-value: {result[1]}')\n",
        "for key, value in result[4].items():\n",
        "    print('Critial Values:')\n",
        "    print(f'   {key}, {value}')  "
      ],
      "execution_count": null,
      "outputs": [
        {
          "output_type": "stream",
          "name": "stdout",
          "text": [
            "ADF Statistic: 6.228432767146877\n",
            "n_lags: 1.0\n",
            "p-value: 1.0\n",
            "Critial Values:\n",
            "   1%, -4.137829282407408\n",
            "Critial Values:\n",
            "   5%, -3.1549724074074077\n",
            "Critial Values:\n",
            "   10%, -2.7144769444444443\n"
          ]
        }
      ]
    },
    {
      "cell_type": "markdown",
      "metadata": {
        "id": "78kAlnk_lF-i"
      },
      "source": [
        "\n",
        "\n",
        "Age group \n",
        "\n",
        "H0: Maximum deaths happened are in 18-49 years age group people\n",
        "H1:Maximum deaths are not in 18-49 years age group people\n",
        "\n",
        "Symptoms\n",
        "\n",
        "H0:Deaths are more in people with Symptoms\n",
        "H1:Deaths are not more in people with Symptoms\n",
        "\n",
        "Underlying conditions\n",
        "\n",
        "H0:deaths are more in people with underlying conditions\n",
        "H1:deaths are more in people without underlying conditions\n",
        "\n",
        "Race\n",
        "\n",
        "H0:Total deaths are more in white race than other races\n",
        "H1:Total deaths are not more in white race than other races\n"
      ]
    },
    {
      "cell_type": "code",
      "metadata": {
        "colab": {
          "base_uri": "https://localhost:8080/",
          "height": 204
        },
        "id": "h3IHPipJr41W",
        "outputId": "ba3a7dc1-f056-4021-eb54-404d9c932764"
      },
      "source": [
        "#Gender\n",
        "#H0: Female deaths are twice as male deaths in 2020 and 2021 \n",
        "#H1:Female deaths are not as twice as male deaths\n",
        " \n",
        "\n",
        "#gender_month_df = df.groupby(['case_month','res_state','sex']).sum('count').reset_index()\n",
        "gender_month_df = df[['res_state','sex','count']]\n",
        "#gender_month_df= gender_month_df.sort_values(by=['case_month'])\n",
        "gender_month_df.head()"
      ],
      "execution_count": 8,
      "outputs": [
        {
          "output_type": "execute_result",
          "data": {
            "text/html": [
              "<div>\n",
              "<style scoped>\n",
              "    .dataframe tbody tr th:only-of-type {\n",
              "        vertical-align: middle;\n",
              "    }\n",
              "\n",
              "    .dataframe tbody tr th {\n",
              "        vertical-align: top;\n",
              "    }\n",
              "\n",
              "    .dataframe thead th {\n",
              "        text-align: right;\n",
              "    }\n",
              "</style>\n",
              "<table border=\"1\" class=\"dataframe\">\n",
              "  <thead>\n",
              "    <tr style=\"text-align: right;\">\n",
              "      <th></th>\n",
              "      <th>res_state</th>\n",
              "      <th>sex</th>\n",
              "      <th>count</th>\n",
              "    </tr>\n",
              "  </thead>\n",
              "  <tbody>\n",
              "    <tr>\n",
              "      <th>0</th>\n",
              "      <td>NJ</td>\n",
              "      <td>Female</td>\n",
              "      <td>3</td>\n",
              "    </tr>\n",
              "    <tr>\n",
              "      <th>1</th>\n",
              "      <td>NJ</td>\n",
              "      <td>Female</td>\n",
              "      <td>3</td>\n",
              "    </tr>\n",
              "    <tr>\n",
              "      <th>2</th>\n",
              "      <td>NJ</td>\n",
              "      <td>Male</td>\n",
              "      <td>1</td>\n",
              "    </tr>\n",
              "    <tr>\n",
              "      <th>3</th>\n",
              "      <td>NJ</td>\n",
              "      <td>Male</td>\n",
              "      <td>2</td>\n",
              "    </tr>\n",
              "    <tr>\n",
              "      <th>4</th>\n",
              "      <td>NY</td>\n",
              "      <td>Male</td>\n",
              "      <td>1</td>\n",
              "    </tr>\n",
              "  </tbody>\n",
              "</table>\n",
              "</div>"
            ],
            "text/plain": [
              "  res_state     sex  count\n",
              "0        NJ  Female      3\n",
              "1        NJ  Female      3\n",
              "2        NJ    Male      1\n",
              "3        NJ    Male      2\n",
              "4        NY    Male      1"
            ]
          },
          "metadata": {},
          "execution_count": 8
        }
      ]
    },
    {
      "cell_type": "code",
      "metadata": {
        "colab": {
          "base_uri": "https://localhost:8080/"
        },
        "id": "rcdItkrl0LcI",
        "outputId": "72925998-66be-4fbb-b477-0caab4a7a922"
      },
      "source": [
        "male = gender_month_df[gender_month_df[\"sex\"]=='Male']['count']\n",
        "female = gender_month_df[gender_month_df[\"sex\"]=='Female']['count']\n",
        "\n",
        "\n",
        "male\n",
        "\n",
        "female"
      ],
      "execution_count": null,
      "outputs": [
        {
          "output_type": "execute_result",
          "data": {
            "text/plain": [
              "0         3\n",
              "1         3\n",
              "6         2\n",
              "7         4\n",
              "8         1\n",
              "         ..\n",
              "102465    1\n",
              "102466    1\n",
              "102470    1\n",
              "102473    1\n",
              "102474    2\n",
              "Name: count, Length: 55264, dtype: int64"
            ]
          },
          "metadata": {},
          "execution_count": 12
        }
      ]
    },
    {
      "cell_type": "code",
      "metadata": {
        "colab": {
          "base_uri": "https://localhost:8080/"
        },
        "id": "aoECjJwxLBUs",
        "outputId": "fac67a20-81f5-4fda-c3cc-ddaa474b94fc"
      },
      "source": [
        "t_value,p_value=stats.ttest_ind(male,female)\n",
        "\n",
        "one_tailed_p_value=float(\"{:.6f}\".format(p_value/2))\n",
        "\n",
        "print('Test statistic is %f'%float(\"{:.6f}\".format(t_value)))\n",
        "\n",
        "print('p-value for two tailed test is %f'%p_value)\n",
        "\n",
        "print('p-value for one_tailed_test is %f'%one_tailed_p_value)\n",
        "\n",
        "alpha = 0.05\n",
        "\n",
        "if p_value<=alpha:\n",
        "\n",
        "    print('Conclusion','n','Since p-value(=%f)'%p_value,'<','alpha(=%.2f)'%alpha,'''We reject the null hypothesis H0. So we conclude that the \n",
        "\n",
        "    effect of male and female death counts are not equal i.e., μ1 = μ2 at %.2f level of significance.'''%alpha)\n",
        "\n",
        "else:\n",
        "\n",
        "    print('Conclusion','n','Since p-value(=%f)'%one_tailed_p_value,'>','alpha(=%.2f)'%alpha,'''We do not reject the null hypothesis H0. \n",
        "\n",
        "So we conclude that the students have not benefited by the tuition class. i.e., d = 0 at %.2f level of significance.'''%alpha)\n"
      ],
      "execution_count": null,
      "outputs": [
        {
          "output_type": "stream",
          "name": "stdout",
          "text": [
            "Test statistic is -3.546468\n",
            "p-value for two tailed test is 0.000391\n",
            "p-value for one_tailed_test is 0.000195\n",
            "Conclusion n Since p-value(=0.000391) < alpha(=0.05) We reject the null hypothesis H0. So we conclude that the \n",
            "\n",
            "    effect of male and female death counts are not equal i.e., μ1 = μ2 at 0.05 level of significance.\n"
          ]
        }
      ]
    },
    {
      "cell_type": "markdown",
      "metadata": {
        "id": "FETHEJ8aRByh"
      },
      "source": [
        "1. Check assumptions and write hypotheses\n",
        "In order to use Pearson's  both variables must be quantitative and the relationship between  and  must be linear\n",
        "\n",
        "Research Question\tIs the correlation in the population different from 0?\tIs the correlation in the population positive?\tIs the correlation in the population negative?\n",
        "Null Hypothesis, \t\t\t\n",
        "Alternative Hypothesis, \t\t\t\n",
        "Type of Hypothesis Test\tTwo-tailed, non-directional\tRight-tailed, directional\tLeft-tailed, directional\n",
        "2. Calculate the test statistic\n",
        "Use Minitab to compute \n",
        "\n",
        "3. Determine the p-value\n",
        "Minitab will give you the p-value for a two-tailed test (i.e., ). If you are conducting a one-tailed test you will need to divide the p-value in the output by 2.\n",
        "\n",
        "4. Make a decision\n",
        "If  reject the null hypothesis, there is evidence of a relationship in the population.\n",
        "\n",
        "If  fail to reject the null hypothesis, there is not evidence of a relationship in the population.\n",
        "\n",
        "5. State a \"real world\" conclusion.\n",
        "Based on your decision in Step 4, write a conclusion in terms of the original research question."
      ]
    },
    {
      "cell_type": "markdown",
      "metadata": {
        "id": "_0fYEGEoId_-"
      },
      "source": [
        "**H0: Maximum deaths happened are in 18-49 years age group people H1:Maximum deaths are not in 18-49 years age group people**"
      ]
    },
    {
      "cell_type": "markdown",
      "metadata": {
        "id": "sFfQ2EHJ9DT1"
      },
      "source": [
        "**AGE** **GROUP**"
      ]
    },
    {
      "cell_type": "code",
      "metadata": {
        "id": "gTmFMkVSMpCk"
      },
      "source": [
        "#Age group \n",
        "\n",
        "#H0: Maximum deaths happened are in 18-49 years age group people\n",
        "#H1:Maximum deaths are not in 18-49 years age group people\n",
        "#ANOVA testing\n",
        "\n",
        "age_df = df[['case_month','res_state','age_group','count']]\n",
        "\n",
        "age_melt = pd.melt(age_df, id_vars =['res_state'], value_vars =['age_group'])\n",
        "\n",
        "#age_df.age_group\n",
        "#age_df\n"
      ],
      "execution_count": 8,
      "outputs": []
    },
    {
      "cell_type": "code",
      "metadata": {
        "id": "lHvcrpFK3VCp"
      },
      "source": [
        "#age_df = age_df.set_index('age_group').T\n",
        "\n",
        "#age_df"
      ],
      "execution_count": null,
      "outputs": []
    },
    {
      "cell_type": "code",
      "metadata": {
        "id": "peLseBuc4Erx"
      },
      "source": [
        "a_df = df.groupby(['age_group','case_month']).sum('count').reset_index()\n",
        "\n",
        "\n",
        "#a_df = a_df.set_index('age_group').T\n",
        "#a_df\n",
        "\n",
        "agegroup1_df = a_df.loc[(a_df['age_group'].isin(['0 - 17 years'])),\n",
        "                    ['case_month','age_group','count']].head(15)\n",
        "agegroup2_df = a_df.loc[(a_df['age_group'].isin(['18 to 49 years'])),\n",
        "                    ['case_month','age_group','count']].head(15)\n",
        "agegroup3_df = a_df.loc[(a_df['age_group'].isin(['50 to 64 years'])),\n",
        "                    ['case_month','age_group','count']].head(15)\n",
        "agegroup4_df = a_df.loc[(a_df['age_group'].isin(['65+ years'])),\n",
        "                    ['case_month','age_group','count']].head(15)\n",
        "#b_df = age_df.loc[(age_df['case_month'].isin(['2020-11','2020-12','2020-10'])) & (age_df['age_group'].isin(['18 to 49 years'])) & (age_df['res_state'].isin(['NY','FL','OH'])),\n",
        "#                    ['count']].head()\n",
        "#c_df = age_df.loc[(age_df['case_month'].isin(['2020-11','2020-12','2020-10'])) & (age_df['age_group'].isin(['50 to 64 years'])) & (age_df['res_state'].isin(['NY','FL','OH'])),\n",
        "#                    ['count']].head()\n",
        "#d_df = age_df.loc[(age_df['case_month'].isin(['2020-11','2020-12','2020-10'])) & (age_df['age_group'].isin(['65+ years'])) & (age_df['res_state'].isin(['NY','FL','OH'])),\n",
        "#                    ['count']].head()\n",
        "#a_df"
      ],
      "execution_count": 16,
      "outputs": []
    },
    {
      "cell_type": "code",
      "metadata": {
        "id": "3msu4r0j4WHI"
      },
      "source": [
        "#agegroup1_df"
      ],
      "execution_count": 29,
      "outputs": []
    },
    {
      "cell_type": "code",
      "metadata": {
        "id": "EF1k51al4rvS"
      },
      "source": [
        "#len(agegroup2_df)"
      ],
      "execution_count": 30,
      "outputs": []
    },
    {
      "cell_type": "code",
      "metadata": {
        "id": "xlp1GsGD5vWF"
      },
      "source": [
        "#len(agegroup3_df)"
      ],
      "execution_count": 31,
      "outputs": []
    },
    {
      "cell_type": "code",
      "metadata": {
        "id": "H2Fw52kw5x3B"
      },
      "source": [
        "#len(agegroup4_df)"
      ],
      "execution_count": 32,
      "outputs": []
    },
    {
      "cell_type": "code",
      "metadata": {
        "id": "QxnUlI_UDNCI"
      },
      "source": [
        "#a_df['count']"
      ],
      "execution_count": 33,
      "outputs": []
    },
    {
      "cell_type": "code",
      "metadata": {
        "colab": {
          "base_uri": "https://localhost:8080/"
        },
        "id": "okk0LsuNJca9",
        "outputId": "531a0544-675d-4915-851c-3d6a3cc69390"
      },
      "source": [
        "#Explanatory variable is categorical and response variable is Quantitative variable\n",
        "#ANOVA\n",
        "\n",
        "# stats f_oneway functions takes the groups as input and returns ANOVA F and p value\n",
        "fvalue, pvalue = stats.f_oneway(agegroup1_df['count'],agegroup2_df['count'],agegroup3_df['count'],agegroup4_df['count'])\n",
        "print(fvalue, pvalue)"
      ],
      "execution_count": 17,
      "outputs": [
        {
          "output_type": "stream",
          "name": "stdout",
          "text": [
            "12.511382003248482 2.2718884166293664e-06\n"
          ]
        }
      ]
    },
    {
      "cell_type": "code",
      "metadata": {
        "colab": {
          "base_uri": "https://localhost:8080/",
          "height": 231
        },
        "id": "CQ8pjbwkwQ9C",
        "outputId": "1422955b-0b2d-4cc9-af38-2a3043fc9cd4"
      },
      "source": [
        "#pair wise test\n",
        "\n",
        "mc1 = multicomp.MultiComparison(agegroup1_df['count'],agegroup2_df['count'])\n",
        "res1 = mc1.tukeyhsd()\n",
        "print(res1.summary())\n"
      ],
      "execution_count": 1,
      "outputs": [
        {
          "output_type": "error",
          "ename": "NameError",
          "evalue": "ignored",
          "traceback": [
            "\u001b[0;31m---------------------------------------------------------------------------\u001b[0m",
            "\u001b[0;31mNameError\u001b[0m                                 Traceback (most recent call last)",
            "\u001b[0;32m<ipython-input-1-71e1f8aceed4>\u001b[0m in \u001b[0;36m<module>\u001b[0;34m()\u001b[0m\n\u001b[1;32m      1\u001b[0m \u001b[0;31m#pair wise test\u001b[0m\u001b[0;34m\u001b[0m\u001b[0;34m\u001b[0m\u001b[0;34m\u001b[0m\u001b[0m\n\u001b[1;32m      2\u001b[0m \u001b[0;34m\u001b[0m\u001b[0m\n\u001b[0;32m----> 3\u001b[0;31m \u001b[0mmc1\u001b[0m \u001b[0;34m=\u001b[0m \u001b[0mmulticomp\u001b[0m\u001b[0;34m.\u001b[0m\u001b[0mMultiComparison\u001b[0m\u001b[0;34m(\u001b[0m\u001b[0magegroup1_df\u001b[0m\u001b[0;34m[\u001b[0m\u001b[0;34m'count'\u001b[0m\u001b[0;34m]\u001b[0m\u001b[0;34m,\u001b[0m\u001b[0magegroup2_df\u001b[0m\u001b[0;34m[\u001b[0m\u001b[0;34m'count'\u001b[0m\u001b[0;34m]\u001b[0m\u001b[0;34m)\u001b[0m\u001b[0;34m\u001b[0m\u001b[0;34m\u001b[0m\u001b[0m\n\u001b[0m\u001b[1;32m      4\u001b[0m \u001b[0mres1\u001b[0m \u001b[0;34m=\u001b[0m \u001b[0mmc1\u001b[0m\u001b[0;34m.\u001b[0m\u001b[0mtukeyhsd\u001b[0m\u001b[0;34m(\u001b[0m\u001b[0;34m)\u001b[0m\u001b[0;34m\u001b[0m\u001b[0;34m\u001b[0m\u001b[0m\n\u001b[1;32m      5\u001b[0m \u001b[0mprint\u001b[0m\u001b[0;34m(\u001b[0m\u001b[0mres1\u001b[0m\u001b[0;34m.\u001b[0m\u001b[0msummary\u001b[0m\u001b[0;34m(\u001b[0m\u001b[0;34m)\u001b[0m\u001b[0;34m)\u001b[0m\u001b[0;34m\u001b[0m\u001b[0;34m\u001b[0m\u001b[0m\n",
            "\u001b[0;31mNameError\u001b[0m: name 'multicomp' is not defined"
          ]
        }
      ]
    },
    {
      "cell_type": "markdown",
      "metadata": {
        "id": "HVIos9BA6r2r"
      },
      "source": [
        "**GENDER** **DATA** "
      ]
    },
    {
      "cell_type": "code",
      "metadata": {
        "id": "VlfQ3qCi6041"
      },
      "source": [
        "g_df = df.groupby(['sex','case_month']).sum('count').reset_index()\n",
        "#g_df"
      ],
      "execution_count": 27,
      "outputs": []
    },
    {
      "cell_type": "code",
      "metadata": {
        "id": "8yV8HVom7G4t"
      },
      "source": [
        "male_df = g_df.loc[(g_df['sex'].isin(['Male'])),\n",
        "                    ['case_month','sex','count']]\n",
        "#male_df"
      ],
      "execution_count": 14,
      "outputs": []
    },
    {
      "cell_type": "code",
      "metadata": {
        "id": "LA7TLHiT7k9v"
      },
      "source": [
        "female_df = g_df.loc[(g_df['sex'].isin(['Female'])),\n",
        "                    ['case_month','sex','count']]\n",
        "#female_df"
      ],
      "execution_count": 15,
      "outputs": []
    },
    {
      "cell_type": "code",
      "metadata": {
        "colab": {
          "base_uri": "https://localhost:8080/"
        },
        "id": "y5xgYpDvbXBL",
        "outputId": "1f14570a-85ec-4cb0-ec40-f2191a316c65"
      },
      "source": [
        "#Explanatory variable is categorical and response variable is Quantitative variable\n",
        "#ANOVA\n",
        "\n",
        "# stats f_oneway functions takes the groups as input and returns ANOVA F and p value\n",
        "fvalue, pvalue = stats.f_oneway(male_df['count'],female_df['count'])\n",
        "print(fvalue, pvalue)"
      ],
      "execution_count": 16,
      "outputs": [
        {
          "output_type": "stream",
          "name": "stdout",
          "text": [
            "1.0608765644846043 0.30952685990352197\n"
          ]
        }
      ]
    },
    {
      "cell_type": "markdown",
      "metadata": {
        "id": "ZbpbQJ-3-6Go"
      },
      "source": [
        "**H0:Deaths are more in people with Symptoms H1:Deaths are not more in people with Symptoms**"
      ]
    },
    {
      "cell_type": "code",
      "metadata": {
        "colab": {
          "base_uri": "https://localhost:8080/",
          "height": 419
        },
        "id": "jgSs0KU79JIn",
        "outputId": "8f00cf57-e813-4c4f-fb9e-5a91c0bd78a2"
      },
      "source": [
        "s_df = df.groupby(['symptom_status','case_month']).sum('count').reset_index()\n",
        "s_df"
      ],
      "execution_count": 17,
      "outputs": [
        {
          "output_type": "execute_result",
          "data": {
            "text/html": [
              "<div>\n",
              "<style scoped>\n",
              "    .dataframe tbody tr th:only-of-type {\n",
              "        vertical-align: middle;\n",
              "    }\n",
              "\n",
              "    .dataframe tbody tr th {\n",
              "        vertical-align: top;\n",
              "    }\n",
              "\n",
              "    .dataframe thead th {\n",
              "        text-align: right;\n",
              "    }\n",
              "</style>\n",
              "<table border=\"1\" class=\"dataframe\">\n",
              "  <thead>\n",
              "    <tr style=\"text-align: right;\">\n",
              "      <th></th>\n",
              "      <th>symptom_status</th>\n",
              "      <th>case_month</th>\n",
              "      <th>count</th>\n",
              "    </tr>\n",
              "  </thead>\n",
              "  <tbody>\n",
              "    <tr>\n",
              "      <th>0</th>\n",
              "      <td>Asymptomatic</td>\n",
              "      <td>2020-03</td>\n",
              "      <td>59</td>\n",
              "    </tr>\n",
              "    <tr>\n",
              "      <th>1</th>\n",
              "      <td>Asymptomatic</td>\n",
              "      <td>2020-04</td>\n",
              "      <td>1386</td>\n",
              "    </tr>\n",
              "    <tr>\n",
              "      <th>2</th>\n",
              "      <td>Asymptomatic</td>\n",
              "      <td>2020-05</td>\n",
              "      <td>2636</td>\n",
              "    </tr>\n",
              "    <tr>\n",
              "      <th>3</th>\n",
              "      <td>Asymptomatic</td>\n",
              "      <td>2020-06</td>\n",
              "      <td>2439</td>\n",
              "    </tr>\n",
              "    <tr>\n",
              "      <th>4</th>\n",
              "      <td>Asymptomatic</td>\n",
              "      <td>2020-07</td>\n",
              "      <td>4207</td>\n",
              "    </tr>\n",
              "    <tr>\n",
              "      <th>...</th>\n",
              "      <td>...</td>\n",
              "      <td>...</td>\n",
              "      <td>...</td>\n",
              "    </tr>\n",
              "    <tr>\n",
              "      <th>71</th>\n",
              "      <td>Unknown</td>\n",
              "      <td>2021-04</td>\n",
              "      <td>341</td>\n",
              "    </tr>\n",
              "    <tr>\n",
              "      <th>72</th>\n",
              "      <td>Unknown</td>\n",
              "      <td>2021-05</td>\n",
              "      <td>189</td>\n",
              "    </tr>\n",
              "    <tr>\n",
              "      <th>73</th>\n",
              "      <td>Unknown</td>\n",
              "      <td>2021-06</td>\n",
              "      <td>92</td>\n",
              "    </tr>\n",
              "    <tr>\n",
              "      <th>74</th>\n",
              "      <td>Unknown</td>\n",
              "      <td>2021-07</td>\n",
              "      <td>278</td>\n",
              "    </tr>\n",
              "    <tr>\n",
              "      <th>75</th>\n",
              "      <td>Unknown</td>\n",
              "      <td>2021-08</td>\n",
              "      <td>5</td>\n",
              "    </tr>\n",
              "  </tbody>\n",
              "</table>\n",
              "<p>76 rows × 3 columns</p>\n",
              "</div>"
            ],
            "text/plain": [
              "   symptom_status case_month  count\n",
              "0    Asymptomatic    2020-03     59\n",
              "1    Asymptomatic    2020-04   1386\n",
              "2    Asymptomatic    2020-05   2636\n",
              "3    Asymptomatic    2020-06   2439\n",
              "4    Asymptomatic    2020-07   4207\n",
              "..            ...        ...    ...\n",
              "71        Unknown    2021-04    341\n",
              "72        Unknown    2021-05    189\n",
              "73        Unknown    2021-06     92\n",
              "74        Unknown    2021-07    278\n",
              "75        Unknown    2021-08      5\n",
              "\n",
              "[76 rows x 3 columns]"
            ]
          },
          "metadata": {},
          "execution_count": 17
        }
      ]
    },
    {
      "cell_type": "code",
      "metadata": {
        "id": "9aaHrFr0b8nl"
      },
      "source": [
        "\n",
        "s1_df = s_df.loc[(s_df['symptom_status'].isin(['Asymptomatic'])),\n",
        "                    ['case_month','symptom_status','count']]\n",
        "s2_df = s_df.loc[(s_df['symptom_status'].isin(['Symptomatic'])),\n",
        "                    ['case_month','symptom_status','count']]\n"
      ],
      "execution_count": 18,
      "outputs": []
    },
    {
      "cell_type": "code",
      "metadata": {
        "id": "05ODKXn6A5jY"
      },
      "source": [
        "#s1_df"
      ],
      "execution_count": 19,
      "outputs": []
    },
    {
      "cell_type": "code",
      "metadata": {
        "id": "MIy9c6yZA8QQ"
      },
      "source": [
        "#s2_df"
      ],
      "execution_count": 20,
      "outputs": []
    },
    {
      "cell_type": "code",
      "metadata": {
        "colab": {
          "base_uri": "https://localhost:8080/"
        },
        "id": "6wc9BiwAc6Mr",
        "outputId": "d2873338-bf71-4bef-f7a2-fd5a3b4e9c88"
      },
      "source": [
        "#Explanatory variable is categorical and response variable is Quantitative variable\n",
        "#ANOVA\n",
        "\n",
        "# stats f_oneway functions takes the groups as input and returns ANOVA F and p value\n",
        "fvalue, pvalue = stats.f_oneway(s1_df['count'],s2_df['count'])\n",
        "print(fvalue, pvalue)"
      ],
      "execution_count": 21,
      "outputs": [
        {
          "output_type": "stream",
          "name": "stdout",
          "text": [
            "21.077195386761918 5.205147770842483e-05\n"
          ]
        }
      ]
    },
    {
      "cell_type": "markdown",
      "metadata": {
        "id": "RnRgd_7EByH-"
      },
      "source": [
        "**H0:Total deaths are more in white race than other races H1:Total deaths are not more in white race than other races**"
      ]
    },
    {
      "cell_type": "code",
      "metadata": {
        "colab": {
          "base_uri": "https://localhost:8080/",
          "height": 419
        },
        "id": "FFOScUDoBwtS",
        "outputId": "77bf112a-2fc7-447a-faa1-bb3a5e894024"
      },
      "source": [
        "r_df = df.groupby(['race','case_month']).sum('count').reset_index()\n",
        "r_df"
      ],
      "execution_count": 22,
      "outputs": [
        {
          "output_type": "execute_result",
          "data": {
            "text/html": [
              "<div>\n",
              "<style scoped>\n",
              "    .dataframe tbody tr th:only-of-type {\n",
              "        vertical-align: middle;\n",
              "    }\n",
              "\n",
              "    .dataframe tbody tr th {\n",
              "        vertical-align: top;\n",
              "    }\n",
              "\n",
              "    .dataframe thead th {\n",
              "        text-align: right;\n",
              "    }\n",
              "</style>\n",
              "<table border=\"1\" class=\"dataframe\">\n",
              "  <thead>\n",
              "    <tr style=\"text-align: right;\">\n",
              "      <th></th>\n",
              "      <th>race</th>\n",
              "      <th>case_month</th>\n",
              "      <th>count</th>\n",
              "    </tr>\n",
              "  </thead>\n",
              "  <tbody>\n",
              "    <tr>\n",
              "      <th>0</th>\n",
              "      <td>American Indian/Alaska Native</td>\n",
              "      <td>2020-03</td>\n",
              "      <td>2</td>\n",
              "    </tr>\n",
              "    <tr>\n",
              "      <th>1</th>\n",
              "      <td>American Indian/Alaska Native</td>\n",
              "      <td>2020-04</td>\n",
              "      <td>33</td>\n",
              "    </tr>\n",
              "    <tr>\n",
              "      <th>2</th>\n",
              "      <td>American Indian/Alaska Native</td>\n",
              "      <td>2020-05</td>\n",
              "      <td>116</td>\n",
              "    </tr>\n",
              "    <tr>\n",
              "      <th>3</th>\n",
              "      <td>American Indian/Alaska Native</td>\n",
              "      <td>2020-06</td>\n",
              "      <td>81</td>\n",
              "    </tr>\n",
              "    <tr>\n",
              "      <th>4</th>\n",
              "      <td>American Indian/Alaska Native</td>\n",
              "      <td>2020-07</td>\n",
              "      <td>234</td>\n",
              "    </tr>\n",
              "    <tr>\n",
              "      <th>...</th>\n",
              "      <td>...</td>\n",
              "      <td>...</td>\n",
              "      <td>...</td>\n",
              "    </tr>\n",
              "    <tr>\n",
              "      <th>122</th>\n",
              "      <td>White</td>\n",
              "      <td>2021-04</td>\n",
              "      <td>26986</td>\n",
              "    </tr>\n",
              "    <tr>\n",
              "      <th>123</th>\n",
              "      <td>White</td>\n",
              "      <td>2021-05</td>\n",
              "      <td>12397</td>\n",
              "    </tr>\n",
              "    <tr>\n",
              "      <th>124</th>\n",
              "      <td>White</td>\n",
              "      <td>2021-06</td>\n",
              "      <td>3555</td>\n",
              "    </tr>\n",
              "    <tr>\n",
              "      <th>125</th>\n",
              "      <td>White</td>\n",
              "      <td>2021-07</td>\n",
              "      <td>12408</td>\n",
              "    </tr>\n",
              "    <tr>\n",
              "      <th>126</th>\n",
              "      <td>White</td>\n",
              "      <td>2021-08</td>\n",
              "      <td>61</td>\n",
              "    </tr>\n",
              "  </tbody>\n",
              "</table>\n",
              "<p>127 rows × 3 columns</p>\n",
              "</div>"
            ],
            "text/plain": [
              "                              race case_month  count\n",
              "0    American Indian/Alaska Native    2020-03      2\n",
              "1    American Indian/Alaska Native    2020-04     33\n",
              "2    American Indian/Alaska Native    2020-05    116\n",
              "3    American Indian/Alaska Native    2020-06     81\n",
              "4    American Indian/Alaska Native    2020-07    234\n",
              "..                             ...        ...    ...\n",
              "122                          White    2021-04  26986\n",
              "123                          White    2021-05  12397\n",
              "124                          White    2021-06   3555\n",
              "125                          White    2021-07  12408\n",
              "126                          White    2021-08     61\n",
              "\n",
              "[127 rows x 3 columns]"
            ]
          },
          "metadata": {},
          "execution_count": 22
        }
      ]
    },
    {
      "cell_type": "code",
      "metadata": {
        "id": "WnLPJyYKCNUq"
      },
      "source": [
        "race1_df = r_df.loc[(r_df['race'].isin(['American Indian/Alaska Native'])),\n",
        "                    ['case_month','race','count']]\n",
        "race2_df = r_df.loc[(r_df['race'].isin(['White'])),\n",
        "                    ['case_month','race','count']]\n",
        "race3_df = r_df.loc[(r_df['race'].isin(['Asian'])),\n",
        "                    ['case_month','race','count']]\n",
        "race4_df = r_df.loc[(r_df['race'].isin(['Native Hawaiian/Other Pacific Islander'])),\n",
        "                    ['case_month','race','count']]\n",
        "race5_df = r_df.loc[(r_df['race'].isin(['Black'])),\n",
        "                    ['case_month','race','count']]\n",
        "                    \t"
      ],
      "execution_count": 40,
      "outputs": []
    },
    {
      "cell_type": "code",
      "metadata": {
        "colab": {
          "base_uri": "https://localhost:8080/"
        },
        "id": "wsCQtoOeETGr",
        "outputId": "1d5bc433-24ba-42f3-b6b2-c0f02df8dbbb"
      },
      "source": [
        "#Explanatory variable is categorical and response variable is Quantitative variable\n",
        "#ANOVA\n",
        "\n",
        "# stats f_oneway functions takes the groups as input and returns ANOVA F and p value\n",
        "fvalue, pvalue = stats.f_oneway(race1_df['count'],race2_df['count'])\n",
        "print(fvalue, pvalue)"
      ],
      "execution_count": 24,
      "outputs": [
        {
          "output_type": "stream",
          "name": "stdout",
          "text": [
            "20.10089891820356 7.553376038930599e-05\n"
          ]
        }
      ]
    },
    {
      "cell_type": "code",
      "metadata": {
        "colab": {
          "base_uri": "https://localhost:8080/"
        },
        "id": "y82AXmIgF-5Y",
        "outputId": "89fc314a-dd3f-45de-ca62-ef0f3eb8d829"
      },
      "source": [
        "fvalue, pvalue = stats.f_oneway(race3_df['count'],race4_df['count'])\n",
        "print(fvalue, pvalue)"
      ],
      "execution_count": 26,
      "outputs": [
        {
          "output_type": "stream",
          "name": "stdout",
          "text": [
            "31.73856808693913 2.577501357768874e-06\n"
          ]
        }
      ]
    },
    {
      "cell_type": "code",
      "metadata": {
        "colab": {
          "base_uri": "https://localhost:8080/"
        },
        "id": "JVyZ5LmJC86S",
        "outputId": "18d3a4cb-fa27-48f1-b7c0-7fd6b7084ba3"
      },
      "source": [
        "fvalue, pvalue = stats.f_oneway(race1_df['count'],race2_df['count'],race3_df['count'],race4_df['count'],race5_df['count'])\n",
        "print(fvalue, pvalue)"
      ],
      "execution_count": 41,
      "outputs": [
        {
          "output_type": "stream",
          "name": "stdout",
          "text": [
            "18.593699513564818 5.2026844833219814e-11\n"
          ]
        }
      ]
    },
    {
      "cell_type": "code",
      "metadata": {
        "id": "qKUeMLE4JjNc"
      },
      "source": [
        "#post hoc test"
      ],
      "execution_count": null,
      "outputs": []
    },
    {
      "cell_type": "markdown",
      "metadata": {
        "id": "2LbzvgLlGeev"
      },
      "source": [
        "**H0:deaths are more in people with underlying conditions H1:deaths are more in people without underlying conditions**"
      ]
    },
    {
      "cell_type": "code",
      "metadata": {
        "colab": {
          "base_uri": "https://localhost:8080/",
          "height": 1000
        },
        "id": "UoEHkNuBGeNU",
        "outputId": "78e9fed7-3d1d-4d35-f061-f72d7a168aa9"
      },
      "source": [
        "c_df = df.groupby(['underlying_conditions_yn','case_month']).sum('count').reset_index()\n",
        "c_df"
      ],
      "execution_count": 36,
      "outputs": [
        {
          "output_type": "execute_result",
          "data": {
            "text/html": [
              "<div>\n",
              "<style scoped>\n",
              "    .dataframe tbody tr th:only-of-type {\n",
              "        vertical-align: middle;\n",
              "    }\n",
              "\n",
              "    .dataframe tbody tr th {\n",
              "        vertical-align: top;\n",
              "    }\n",
              "\n",
              "    .dataframe thead th {\n",
              "        text-align: right;\n",
              "    }\n",
              "</style>\n",
              "<table border=\"1\" class=\"dataframe\">\n",
              "  <thead>\n",
              "    <tr style=\"text-align: right;\">\n",
              "      <th></th>\n",
              "      <th>underlying_conditions_yn</th>\n",
              "      <th>case_month</th>\n",
              "      <th>count</th>\n",
              "    </tr>\n",
              "  </thead>\n",
              "  <tbody>\n",
              "    <tr>\n",
              "      <th>0</th>\n",
              "      <td>No</td>\n",
              "      <td>2020-03</td>\n",
              "      <td>2</td>\n",
              "    </tr>\n",
              "    <tr>\n",
              "      <th>1</th>\n",
              "      <td>No</td>\n",
              "      <td>2020-04</td>\n",
              "      <td>27</td>\n",
              "    </tr>\n",
              "    <tr>\n",
              "      <th>2</th>\n",
              "      <td>No</td>\n",
              "      <td>2020-05</td>\n",
              "      <td>812</td>\n",
              "    </tr>\n",
              "    <tr>\n",
              "      <th>3</th>\n",
              "      <td>No</td>\n",
              "      <td>2020-06</td>\n",
              "      <td>2317</td>\n",
              "    </tr>\n",
              "    <tr>\n",
              "      <th>4</th>\n",
              "      <td>No</td>\n",
              "      <td>2020-07</td>\n",
              "      <td>2979</td>\n",
              "    </tr>\n",
              "    <tr>\n",
              "      <th>5</th>\n",
              "      <td>No</td>\n",
              "      <td>2020-08</td>\n",
              "      <td>2061</td>\n",
              "    </tr>\n",
              "    <tr>\n",
              "      <th>6</th>\n",
              "      <td>No</td>\n",
              "      <td>2020-09</td>\n",
              "      <td>2191</td>\n",
              "    </tr>\n",
              "    <tr>\n",
              "      <th>7</th>\n",
              "      <td>No</td>\n",
              "      <td>2020-10</td>\n",
              "      <td>3760</td>\n",
              "    </tr>\n",
              "    <tr>\n",
              "      <th>8</th>\n",
              "      <td>No</td>\n",
              "      <td>2020-11</td>\n",
              "      <td>3913</td>\n",
              "    </tr>\n",
              "    <tr>\n",
              "      <th>9</th>\n",
              "      <td>No</td>\n",
              "      <td>2020-12</td>\n",
              "      <td>418</td>\n",
              "    </tr>\n",
              "    <tr>\n",
              "      <th>10</th>\n",
              "      <td>No</td>\n",
              "      <td>2021-01</td>\n",
              "      <td>1221</td>\n",
              "    </tr>\n",
              "    <tr>\n",
              "      <th>11</th>\n",
              "      <td>No</td>\n",
              "      <td>2021-02</td>\n",
              "      <td>799</td>\n",
              "    </tr>\n",
              "    <tr>\n",
              "      <th>12</th>\n",
              "      <td>No</td>\n",
              "      <td>2021-03</td>\n",
              "      <td>1090</td>\n",
              "    </tr>\n",
              "    <tr>\n",
              "      <th>13</th>\n",
              "      <td>No</td>\n",
              "      <td>2021-04</td>\n",
              "      <td>2258</td>\n",
              "    </tr>\n",
              "    <tr>\n",
              "      <th>14</th>\n",
              "      <td>No</td>\n",
              "      <td>2021-05</td>\n",
              "      <td>1207</td>\n",
              "    </tr>\n",
              "    <tr>\n",
              "      <th>15</th>\n",
              "      <td>No</td>\n",
              "      <td>2021-06</td>\n",
              "      <td>174</td>\n",
              "    </tr>\n",
              "    <tr>\n",
              "      <th>16</th>\n",
              "      <td>No</td>\n",
              "      <td>2021-07</td>\n",
              "      <td>1249</td>\n",
              "    </tr>\n",
              "    <tr>\n",
              "      <th>17</th>\n",
              "      <td>No</td>\n",
              "      <td>2021-08</td>\n",
              "      <td>1</td>\n",
              "    </tr>\n",
              "    <tr>\n",
              "      <th>18</th>\n",
              "      <td>Yes</td>\n",
              "      <td>2020-01</td>\n",
              "      <td>9</td>\n",
              "    </tr>\n",
              "    <tr>\n",
              "      <th>19</th>\n",
              "      <td>Yes</td>\n",
              "      <td>2020-02</td>\n",
              "      <td>29</td>\n",
              "    </tr>\n",
              "    <tr>\n",
              "      <th>20</th>\n",
              "      <td>Yes</td>\n",
              "      <td>2020-03</td>\n",
              "      <td>37838</td>\n",
              "    </tr>\n",
              "    <tr>\n",
              "      <th>21</th>\n",
              "      <td>Yes</td>\n",
              "      <td>2020-04</td>\n",
              "      <td>70220</td>\n",
              "    </tr>\n",
              "    <tr>\n",
              "      <th>22</th>\n",
              "      <td>Yes</td>\n",
              "      <td>2020-05</td>\n",
              "      <td>41504</td>\n",
              "    </tr>\n",
              "    <tr>\n",
              "      <th>23</th>\n",
              "      <td>Yes</td>\n",
              "      <td>2020-06</td>\n",
              "      <td>44690</td>\n",
              "    </tr>\n",
              "    <tr>\n",
              "      <th>24</th>\n",
              "      <td>Yes</td>\n",
              "      <td>2020-07</td>\n",
              "      <td>60068</td>\n",
              "    </tr>\n",
              "    <tr>\n",
              "      <th>25</th>\n",
              "      <td>Yes</td>\n",
              "      <td>2020-08</td>\n",
              "      <td>43988</td>\n",
              "    </tr>\n",
              "    <tr>\n",
              "      <th>26</th>\n",
              "      <td>Yes</td>\n",
              "      <td>2020-09</td>\n",
              "      <td>48769</td>\n",
              "    </tr>\n",
              "    <tr>\n",
              "      <th>27</th>\n",
              "      <td>Yes</td>\n",
              "      <td>2020-10</td>\n",
              "      <td>90189</td>\n",
              "    </tr>\n",
              "    <tr>\n",
              "      <th>28</th>\n",
              "      <td>Yes</td>\n",
              "      <td>2020-11</td>\n",
              "      <td>137526</td>\n",
              "    </tr>\n",
              "    <tr>\n",
              "      <th>29</th>\n",
              "      <td>Yes</td>\n",
              "      <td>2020-12</td>\n",
              "      <td>134730</td>\n",
              "    </tr>\n",
              "    <tr>\n",
              "      <th>30</th>\n",
              "      <td>Yes</td>\n",
              "      <td>2021-01</td>\n",
              "      <td>95973</td>\n",
              "    </tr>\n",
              "    <tr>\n",
              "      <th>31</th>\n",
              "      <td>Yes</td>\n",
              "      <td>2021-02</td>\n",
              "      <td>38516</td>\n",
              "    </tr>\n",
              "    <tr>\n",
              "      <th>32</th>\n",
              "      <td>Yes</td>\n",
              "      <td>2021-03</td>\n",
              "      <td>33892</td>\n",
              "    </tr>\n",
              "    <tr>\n",
              "      <th>33</th>\n",
              "      <td>Yes</td>\n",
              "      <td>2021-04</td>\n",
              "      <td>33764</td>\n",
              "    </tr>\n",
              "    <tr>\n",
              "      <th>34</th>\n",
              "      <td>Yes</td>\n",
              "      <td>2021-05</td>\n",
              "      <td>15534</td>\n",
              "    </tr>\n",
              "    <tr>\n",
              "      <th>35</th>\n",
              "      <td>Yes</td>\n",
              "      <td>2021-06</td>\n",
              "      <td>4667</td>\n",
              "    </tr>\n",
              "    <tr>\n",
              "      <th>36</th>\n",
              "      <td>Yes</td>\n",
              "      <td>2021-07</td>\n",
              "      <td>15571</td>\n",
              "    </tr>\n",
              "    <tr>\n",
              "      <th>37</th>\n",
              "      <td>Yes</td>\n",
              "      <td>2021-08</td>\n",
              "      <td>87</td>\n",
              "    </tr>\n",
              "  </tbody>\n",
              "</table>\n",
              "</div>"
            ],
            "text/plain": [
              "   underlying_conditions_yn case_month   count\n",
              "0                        No    2020-03       2\n",
              "1                        No    2020-04      27\n",
              "2                        No    2020-05     812\n",
              "3                        No    2020-06    2317\n",
              "4                        No    2020-07    2979\n",
              "5                        No    2020-08    2061\n",
              "6                        No    2020-09    2191\n",
              "7                        No    2020-10    3760\n",
              "8                        No    2020-11    3913\n",
              "9                        No    2020-12     418\n",
              "10                       No    2021-01    1221\n",
              "11                       No    2021-02     799\n",
              "12                       No    2021-03    1090\n",
              "13                       No    2021-04    2258\n",
              "14                       No    2021-05    1207\n",
              "15                       No    2021-06     174\n",
              "16                       No    2021-07    1249\n",
              "17                       No    2021-08       1\n",
              "18                      Yes    2020-01       9\n",
              "19                      Yes    2020-02      29\n",
              "20                      Yes    2020-03   37838\n",
              "21                      Yes    2020-04   70220\n",
              "22                      Yes    2020-05   41504\n",
              "23                      Yes    2020-06   44690\n",
              "24                      Yes    2020-07   60068\n",
              "25                      Yes    2020-08   43988\n",
              "26                      Yes    2020-09   48769\n",
              "27                      Yes    2020-10   90189\n",
              "28                      Yes    2020-11  137526\n",
              "29                      Yes    2020-12  134730\n",
              "30                      Yes    2021-01   95973\n",
              "31                      Yes    2021-02   38516\n",
              "32                      Yes    2021-03   33892\n",
              "33                      Yes    2021-04   33764\n",
              "34                      Yes    2021-05   15534\n",
              "35                      Yes    2021-06    4667\n",
              "36                      Yes    2021-07   15571\n",
              "37                      Yes    2021-08      87"
            ]
          },
          "metadata": {},
          "execution_count": 36
        }
      ]
    },
    {
      "cell_type": "code",
      "metadata": {
        "id": "XudfQf0bG4iy"
      },
      "source": [
        "c1_df = c_df.loc[(c_df['underlying_conditions_yn'].isin(['Yes'])),\n",
        "                    ['case_month','underlying_conditions_yn','count']]\n",
        "c2_df = c_df.loc[(c_df['underlying_conditions_yn'].isin(['No'])),\n",
        "                    ['case_month','underlying_conditions_yn','count']]"
      ],
      "execution_count": 42,
      "outputs": []
    },
    {
      "cell_type": "code",
      "metadata": {
        "colab": {
          "base_uri": "https://localhost:8080/"
        },
        "id": "pXRW1yutJ-Kb",
        "outputId": "1071246a-a7a0-4ff4-9f86-37420e7c4893"
      },
      "source": [
        "fvalue, pvalue = stats.f_oneway(c1_df['count'],c2_df['count'])\n",
        "print(fvalue, pvalue)"
      ],
      "execution_count": 43,
      "outputs": [
        {
          "output_type": "stream",
          "name": "stdout",
          "text": [
            "22.585207238236272 3.193951128253401e-05\n"
          ]
        }
      ]
    },
    {
      "cell_type": "markdown",
      "metadata": {
        "id": "L28Pd6yDKOi7"
      },
      "source": [
        "#boxplot and posthoc analysis"
      ]
    }
  ]
}