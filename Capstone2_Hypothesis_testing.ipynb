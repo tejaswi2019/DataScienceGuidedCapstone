{
  "nbformat": 4,
  "nbformat_minor": 0,
  "metadata": {
    "colab": {
      "name": "Capstone2 Hypothesis testing",
      "provenance": [],
      "collapsed_sections": []
    },
    "kernelspec": {
      "name": "python3",
      "display_name": "Python 3"
    },
    "language_info": {
      "name": "python"
    }
  },
  "cells": [
    {
      "cell_type": "markdown",
      "metadata": {
        "id": "i9HtXkjWkalz"
      },
      "source": [
        "Monthly deaths\n",
        "\n",
        "H0: Every month deaths are increasing\n",
        "H1: Every month deaths are not increasing\n"
      ]
    },
    {
      "cell_type": "code",
      "metadata": {
        "colab": {
          "base_uri": "https://localhost:8080/"
        },
        "id": "lkhkYAr4kgZ5",
        "outputId": "9cecfd0a-9e79-455c-fa6b-e26ade0c77c2"
      },
      "source": [
        "from google.colab import drive\n",
        "drive.mount('/content/drive')"
      ],
      "execution_count": null,
      "outputs": [
        {
          "output_type": "stream",
          "name": "stdout",
          "text": [
            "Mounted at /content/drive\n"
          ]
        }
      ]
    },
    {
      "cell_type": "code",
      "metadata": {
        "id": "6wjObI_buP_J"
      },
      "source": [
        "# data loading\n",
        "import pandas as pd\n",
        "import statsmodels\n",
        "from matplotlib import pyplot\n",
        "import matplotlib.pyplot as plt\n",
        "from statsmodels.tsa.stattools import adfuller\n",
        "from scipy import stats\n",
        "import numpy as np\n",
        "from plotnine import *\n",
        "from statsmodels.stats.multicomp import MultiComparison\n",
        "from statsmodels.stats.multicomp import pairwise_tukeyhsd"
      ],
      "execution_count": null,
      "outputs": []
    },
    {
      "cell_type": "code",
      "metadata": {
        "colab": {
          "base_uri": "https://localhost:8080/"
        },
        "id": "YUay40b7uI4q",
        "outputId": "d9b9ec05-95bb-42ab-ab8a-0479e2e65e75"
      },
      "source": [
        "EDA_file = pd.read_csv(\"/content/drive/MyDrive/Springboard/outputfilename.csv\")\n",
        "EDA_file = EDA_file.drop(columns=['state_fips_code', 'res_county','county_fips_code','ethnicity','case_positive_specimen_interval','case_onset_interval'])\n",
        "\n",
        "#EDA_file.head(5)"
      ],
      "execution_count": null,
      "outputs": [
        {
          "output_type": "stream",
          "name": "stderr",
          "text": [
            "/usr/local/lib/python3.7/dist-packages/IPython/core/interactiveshell.py:2718: DtypeWarning: Columns (3) have mixed types.Specify dtype option on import or set low_memory=False.\n",
            "  interactivity=interactivity, compiler=compiler, result=result)\n"
          ]
        }
      ]
    },
    {
      "cell_type": "code",
      "metadata": {
        "colab": {
          "base_uri": "https://localhost:8080/",
          "height": 204
        },
        "id": "r3-gHZ_hwpP0",
        "outputId": "2349538c-1a60-459c-d347-86d269629583"
      },
      "source": [
        "EDA_file=EDA_file.loc[(EDA_file['death_yn'].isin(['Yes','No'])) & (EDA_file['age_group'].isin(['18 to 49 years','50 to 64 years','65+ years','0 - 17 years'])) & EDA_file['sex'].isin(['Female','Male']) & \n",
        "                                  EDA_file['race'].isin(['White','Black','Asian','American Indian/Alaska Native','Native Hawaiian/Other Pacific Islander','Multiple/Other','Unknown'])\n",
        "                                  & (~EDA_file['process'].isin(['Other'])) & (~EDA_file['underlying_conditions_yn'].isnull())]\n",
        "EDA_file.head()"
      ],
      "execution_count": null,
      "outputs": [
        {
          "output_type": "execute_result",
          "data": {
            "text/html": [
              "<div>\n",
              "<style scoped>\n",
              "    .dataframe tbody tr th:only-of-type {\n",
              "        vertical-align: middle;\n",
              "    }\n",
              "\n",
              "    .dataframe tbody tr th {\n",
              "        vertical-align: top;\n",
              "    }\n",
              "\n",
              "    .dataframe thead th {\n",
              "        text-align: right;\n",
              "    }\n",
              "</style>\n",
              "<table border=\"1\" class=\"dataframe\">\n",
              "  <thead>\n",
              "    <tr style=\"text-align: right;\">\n",
              "      <th></th>\n",
              "      <th>case_month</th>\n",
              "      <th>res_state</th>\n",
              "      <th>age_group</th>\n",
              "      <th>sex</th>\n",
              "      <th>race</th>\n",
              "      <th>process</th>\n",
              "      <th>exposure_yn</th>\n",
              "      <th>current_status</th>\n",
              "      <th>symptom_status</th>\n",
              "      <th>hosp_yn</th>\n",
              "      <th>icu_yn</th>\n",
              "      <th>death_yn</th>\n",
              "      <th>underlying_conditions_yn</th>\n",
              "    </tr>\n",
              "  </thead>\n",
              "  <tbody>\n",
              "    <tr>\n",
              "      <th>35</th>\n",
              "      <td>2020-09</td>\n",
              "      <td>NC</td>\n",
              "      <td>18 to 49 years</td>\n",
              "      <td>Female</td>\n",
              "      <td>Black</td>\n",
              "      <td>Missing</td>\n",
              "      <td>Yes</td>\n",
              "      <td>Laboratory-confirmed case</td>\n",
              "      <td>Symptomatic</td>\n",
              "      <td>No</td>\n",
              "      <td>Unknown</td>\n",
              "      <td>No</td>\n",
              "      <td>Yes</td>\n",
              "    </tr>\n",
              "    <tr>\n",
              "      <th>140</th>\n",
              "      <td>2020-07</td>\n",
              "      <td>KS</td>\n",
              "      <td>18 to 49 years</td>\n",
              "      <td>Male</td>\n",
              "      <td>White</td>\n",
              "      <td>Laboratory reported</td>\n",
              "      <td>Missing</td>\n",
              "      <td>Laboratory-confirmed case</td>\n",
              "      <td>Symptomatic</td>\n",
              "      <td>Unknown</td>\n",
              "      <td>No</td>\n",
              "      <td>No</td>\n",
              "      <td>Yes</td>\n",
              "    </tr>\n",
              "    <tr>\n",
              "      <th>202</th>\n",
              "      <td>2020-08</td>\n",
              "      <td>NC</td>\n",
              "      <td>50 to 64 years</td>\n",
              "      <td>Female</td>\n",
              "      <td>Black</td>\n",
              "      <td>Missing</td>\n",
              "      <td>Missing</td>\n",
              "      <td>Laboratory-confirmed case</td>\n",
              "      <td>Symptomatic</td>\n",
              "      <td>No</td>\n",
              "      <td>Unknown</td>\n",
              "      <td>No</td>\n",
              "      <td>Yes</td>\n",
              "    </tr>\n",
              "    <tr>\n",
              "      <th>231</th>\n",
              "      <td>2020-08</td>\n",
              "      <td>IA</td>\n",
              "      <td>18 to 49 years</td>\n",
              "      <td>Male</td>\n",
              "      <td>White</td>\n",
              "      <td>Clinical evaluation</td>\n",
              "      <td>Unknown</td>\n",
              "      <td>Laboratory-confirmed case</td>\n",
              "      <td>Symptomatic</td>\n",
              "      <td>No</td>\n",
              "      <td>No</td>\n",
              "      <td>No</td>\n",
              "      <td>Yes</td>\n",
              "    </tr>\n",
              "    <tr>\n",
              "      <th>327</th>\n",
              "      <td>2020-12</td>\n",
              "      <td>NC</td>\n",
              "      <td>0 - 17 years</td>\n",
              "      <td>Female</td>\n",
              "      <td>White</td>\n",
              "      <td>Missing</td>\n",
              "      <td>Unknown</td>\n",
              "      <td>Laboratory-confirmed case</td>\n",
              "      <td>Symptomatic</td>\n",
              "      <td>No</td>\n",
              "      <td>Unknown</td>\n",
              "      <td>No</td>\n",
              "      <td>Yes</td>\n",
              "    </tr>\n",
              "  </tbody>\n",
              "</table>\n",
              "</div>"
            ],
            "text/plain": [
              "    case_month res_state  ... death_yn underlying_conditions_yn\n",
              "35     2020-09        NC  ...       No                      Yes\n",
              "140    2020-07        KS  ...       No                      Yes\n",
              "202    2020-08        NC  ...       No                      Yes\n",
              "231    2020-08        IA  ...       No                      Yes\n",
              "327    2020-12        NC  ...       No                      Yes\n",
              "\n",
              "[5 rows x 13 columns]"
            ]
          },
          "metadata": {},
          "execution_count": 5
        }
      ]
    },
    {
      "cell_type": "code",
      "metadata": {
        "colab": {
          "base_uri": "https://localhost:8080/",
          "height": 204
        },
        "id": "YjRf37jnyoz9",
        "outputId": "8f42e74a-4a40-46f9-dd90-60f1f163d1d7"
      },
      "source": [
        "df = EDA_file.groupby(['case_month','res_state','sex','race','process','exposure_yn','symptom_status','hosp_yn','current_status','age_group','underlying_conditions_yn','icu_yn'])['death_yn'].agg(['count']).reset_index()\n",
        "\n",
        "df.head()"
      ],
      "execution_count": null,
      "outputs": [
        {
          "output_type": "execute_result",
          "data": {
            "text/html": [
              "<div>\n",
              "<style scoped>\n",
              "    .dataframe tbody tr th:only-of-type {\n",
              "        vertical-align: middle;\n",
              "    }\n",
              "\n",
              "    .dataframe tbody tr th {\n",
              "        vertical-align: top;\n",
              "    }\n",
              "\n",
              "    .dataframe thead th {\n",
              "        text-align: right;\n",
              "    }\n",
              "</style>\n",
              "<table border=\"1\" class=\"dataframe\">\n",
              "  <thead>\n",
              "    <tr style=\"text-align: right;\">\n",
              "      <th></th>\n",
              "      <th>case_month</th>\n",
              "      <th>res_state</th>\n",
              "      <th>sex</th>\n",
              "      <th>race</th>\n",
              "      <th>process</th>\n",
              "      <th>exposure_yn</th>\n",
              "      <th>symptom_status</th>\n",
              "      <th>hosp_yn</th>\n",
              "      <th>current_status</th>\n",
              "      <th>age_group</th>\n",
              "      <th>underlying_conditions_yn</th>\n",
              "      <th>icu_yn</th>\n",
              "      <th>count</th>\n",
              "    </tr>\n",
              "  </thead>\n",
              "  <tbody>\n",
              "    <tr>\n",
              "      <th>0</th>\n",
              "      <td>2020-01</td>\n",
              "      <td>NJ</td>\n",
              "      <td>Female</td>\n",
              "      <td>White</td>\n",
              "      <td>Missing</td>\n",
              "      <td>Missing</td>\n",
              "      <td>Missing</td>\n",
              "      <td>Yes</td>\n",
              "      <td>Laboratory-confirmed case</td>\n",
              "      <td>18 to 49 years</td>\n",
              "      <td>Yes</td>\n",
              "      <td>Missing</td>\n",
              "      <td>3</td>\n",
              "    </tr>\n",
              "    <tr>\n",
              "      <th>1</th>\n",
              "      <td>2020-01</td>\n",
              "      <td>NJ</td>\n",
              "      <td>Female</td>\n",
              "      <td>White</td>\n",
              "      <td>Missing</td>\n",
              "      <td>Missing</td>\n",
              "      <td>Unknown</td>\n",
              "      <td>Yes</td>\n",
              "      <td>Laboratory-confirmed case</td>\n",
              "      <td>18 to 49 years</td>\n",
              "      <td>Yes</td>\n",
              "      <td>Unknown</td>\n",
              "      <td>3</td>\n",
              "    </tr>\n",
              "    <tr>\n",
              "      <th>2</th>\n",
              "      <td>2020-01</td>\n",
              "      <td>NJ</td>\n",
              "      <td>Male</td>\n",
              "      <td>White</td>\n",
              "      <td>Missing</td>\n",
              "      <td>Missing</td>\n",
              "      <td>Symptomatic</td>\n",
              "      <td>Yes</td>\n",
              "      <td>Laboratory-confirmed case</td>\n",
              "      <td>65+ years</td>\n",
              "      <td>Yes</td>\n",
              "      <td>Unknown</td>\n",
              "      <td>1</td>\n",
              "    </tr>\n",
              "    <tr>\n",
              "      <th>3</th>\n",
              "      <td>2020-01</td>\n",
              "      <td>NJ</td>\n",
              "      <td>Male</td>\n",
              "      <td>White</td>\n",
              "      <td>Missing</td>\n",
              "      <td>Missing</td>\n",
              "      <td>Unknown</td>\n",
              "      <td>Yes</td>\n",
              "      <td>Laboratory-confirmed case</td>\n",
              "      <td>65+ years</td>\n",
              "      <td>Yes</td>\n",
              "      <td>Unknown</td>\n",
              "      <td>2</td>\n",
              "    </tr>\n",
              "    <tr>\n",
              "      <th>4</th>\n",
              "      <td>2020-02</td>\n",
              "      <td>NY</td>\n",
              "      <td>Male</td>\n",
              "      <td>Unknown</td>\n",
              "      <td>Missing</td>\n",
              "      <td>Missing</td>\n",
              "      <td>Symptomatic</td>\n",
              "      <td>Yes</td>\n",
              "      <td>Laboratory-confirmed case</td>\n",
              "      <td>50 to 64 years</td>\n",
              "      <td>Yes</td>\n",
              "      <td>No</td>\n",
              "      <td>1</td>\n",
              "    </tr>\n",
              "  </tbody>\n",
              "</table>\n",
              "</div>"
            ],
            "text/plain": [
              "  case_month res_state     sex  ... underlying_conditions_yn   icu_yn count\n",
              "0    2020-01        NJ  Female  ...                      Yes  Missing     3\n",
              "1    2020-01        NJ  Female  ...                      Yes  Unknown     3\n",
              "2    2020-01        NJ    Male  ...                      Yes  Unknown     1\n",
              "3    2020-01        NJ    Male  ...                      Yes  Unknown     2\n",
              "4    2020-02        NY    Male  ...                      Yes       No     1\n",
              "\n",
              "[5 rows x 13 columns]"
            ]
          },
          "metadata": {},
          "execution_count": 6
        }
      ]
    },
    {
      "cell_type": "code",
      "metadata": {
        "colab": {
          "base_uri": "https://localhost:8080/",
          "height": 204
        },
        "id": "WXndu-k1ywF0",
        "outputId": "bc1f5416-3061-48ca-c4a8-d70703422dc1"
      },
      "source": [
        "month_df = df.groupby(['case_month']).sum('count').reset_index()\n",
        "month_df = month_df.sort_values(by = month_df.columns[1])\n",
        "\n",
        "month_df.head()"
      ],
      "execution_count": null,
      "outputs": [
        {
          "output_type": "execute_result",
          "data": {
            "text/html": [
              "<div>\n",
              "<style scoped>\n",
              "    .dataframe tbody tr th:only-of-type {\n",
              "        vertical-align: middle;\n",
              "    }\n",
              "\n",
              "    .dataframe tbody tr th {\n",
              "        vertical-align: top;\n",
              "    }\n",
              "\n",
              "    .dataframe thead th {\n",
              "        text-align: right;\n",
              "    }\n",
              "</style>\n",
              "<table border=\"1\" class=\"dataframe\">\n",
              "  <thead>\n",
              "    <tr style=\"text-align: right;\">\n",
              "      <th></th>\n",
              "      <th>case_month</th>\n",
              "      <th>count</th>\n",
              "    </tr>\n",
              "  </thead>\n",
              "  <tbody>\n",
              "    <tr>\n",
              "      <th>0</th>\n",
              "      <td>2020-01</td>\n",
              "      <td>9</td>\n",
              "    </tr>\n",
              "    <tr>\n",
              "      <th>1</th>\n",
              "      <td>2020-02</td>\n",
              "      <td>29</td>\n",
              "    </tr>\n",
              "    <tr>\n",
              "      <th>19</th>\n",
              "      <td>2021-08</td>\n",
              "      <td>88</td>\n",
              "    </tr>\n",
              "    <tr>\n",
              "      <th>17</th>\n",
              "      <td>2021-06</td>\n",
              "      <td>4841</td>\n",
              "    </tr>\n",
              "    <tr>\n",
              "      <th>16</th>\n",
              "      <td>2021-05</td>\n",
              "      <td>16741</td>\n",
              "    </tr>\n",
              "  </tbody>\n",
              "</table>\n",
              "</div>"
            ],
            "text/plain": [
              "   case_month  count\n",
              "0     2020-01      9\n",
              "1     2020-02     29\n",
              "19    2021-08     88\n",
              "17    2021-06   4841\n",
              "16    2021-05  16741"
            ]
          },
          "metadata": {},
          "execution_count": 7
        }
      ]
    },
    {
      "cell_type": "code",
      "metadata": {
        "id": "b7ZT3T7mZcHp"
      },
      "source": [
        "#month_df['case_month'].dtype\n",
        "#month_df['case_month']=pd.to_datetime(month_df['case_month'])\n",
        "#month_df.set_index('case_month', inplace=True)\n",
        "\n",
        "#month_df['case_month'].dtype\n",
        "#series = month_df.loc[:, 'case_month'].values\n",
        "#series\n",
        "X = month_df['count']\n",
        "\n",
        "\n",
        " "
      ],
      "execution_count": null,
      "outputs": []
    },
    {
      "cell_type": "code",
      "metadata": {
        "colab": {
          "base_uri": "https://localhost:8080/"
        },
        "id": "WnZENIZUfilH",
        "outputId": "b6ff9733-747c-48fb-c77c-5a960f116c33"
      },
      "source": [
        "#ADF test\n",
        "\n",
        "result = adfuller(X)\n",
        "\n",
        "print(f'ADF Statistic: {result[0]}')\n",
        "print(f'n_lags: {result[1]}')\n",
        "print(f'p-value: {result[1]}')\n",
        "for key, value in result[4].items():\n",
        "    print('Critial Values:')\n",
        "    print(f'   {key}, {value}')  "
      ],
      "execution_count": null,
      "outputs": [
        {
          "output_type": "stream",
          "name": "stdout",
          "text": [
            "ADF Statistic: 6.228432767146877\n",
            "n_lags: 1.0\n",
            "p-value: 1.0\n",
            "Critial Values:\n",
            "   1%, -4.137829282407408\n",
            "Critial Values:\n",
            "   5%, -3.1549724074074077\n",
            "Critial Values:\n",
            "   10%, -2.7144769444444443\n"
          ]
        }
      ]
    },
    {
      "cell_type": "markdown",
      "metadata": {
        "id": "78kAlnk_lF-i"
      },
      "source": [
        "\n",
        "\n",
        "Age group \n",
        "\n",
        "H0: Maximum deaths happened are in 18-49 years age group people\n",
        "H1:Maximum deaths are not in 18-49 years age group people\n",
        "\n",
        "Symptoms\n",
        "\n",
        "H0:Deaths are more in people with Symptoms\n",
        "H1:Deaths are not more in people with Symptoms\n",
        "\n",
        "Underlying conditions\n",
        "\n",
        "H0:deaths are more in people with underlying conditions\n",
        "H1:deaths are more in people without underlying conditions\n",
        "\n",
        "Race\n",
        "\n",
        "H0:Total deaths are more in white race than other races\n",
        "H1:Total deaths are not more in white race than other races\n"
      ]
    },
    {
      "cell_type": "code",
      "metadata": {
        "colab": {
          "base_uri": "https://localhost:8080/",
          "height": 204
        },
        "id": "h3IHPipJr41W",
        "outputId": "df9f03b0-6f61-45a9-e842-5a42ffe2851e"
      },
      "source": [
        "#Gender\n",
        "#H0: Female deaths are twice as male deaths in 2020 and 2021 \n",
        "#H1:Female deaths are not as twice as male deaths\n",
        " \n",
        "\n",
        "#gender_month_df = df.groupby(['case_month','res_state','sex']).sum('count').reset_index()\n",
        "gender_month_df = df[['res_state','sex','count']]\n",
        "#gender_month_df= gender_month_df.sort_values(by=['case_month'])\n",
        "gender_month_df.head()"
      ],
      "execution_count": null,
      "outputs": [
        {
          "output_type": "execute_result",
          "data": {
            "text/html": [
              "<div>\n",
              "<style scoped>\n",
              "    .dataframe tbody tr th:only-of-type {\n",
              "        vertical-align: middle;\n",
              "    }\n",
              "\n",
              "    .dataframe tbody tr th {\n",
              "        vertical-align: top;\n",
              "    }\n",
              "\n",
              "    .dataframe thead th {\n",
              "        text-align: right;\n",
              "    }\n",
              "</style>\n",
              "<table border=\"1\" class=\"dataframe\">\n",
              "  <thead>\n",
              "    <tr style=\"text-align: right;\">\n",
              "      <th></th>\n",
              "      <th>res_state</th>\n",
              "      <th>sex</th>\n",
              "      <th>count</th>\n",
              "    </tr>\n",
              "  </thead>\n",
              "  <tbody>\n",
              "    <tr>\n",
              "      <th>0</th>\n",
              "      <td>NJ</td>\n",
              "      <td>Female</td>\n",
              "      <td>3</td>\n",
              "    </tr>\n",
              "    <tr>\n",
              "      <th>1</th>\n",
              "      <td>NJ</td>\n",
              "      <td>Female</td>\n",
              "      <td>3</td>\n",
              "    </tr>\n",
              "    <tr>\n",
              "      <th>2</th>\n",
              "      <td>NJ</td>\n",
              "      <td>Male</td>\n",
              "      <td>1</td>\n",
              "    </tr>\n",
              "    <tr>\n",
              "      <th>3</th>\n",
              "      <td>NJ</td>\n",
              "      <td>Male</td>\n",
              "      <td>2</td>\n",
              "    </tr>\n",
              "    <tr>\n",
              "      <th>4</th>\n",
              "      <td>NY</td>\n",
              "      <td>Male</td>\n",
              "      <td>1</td>\n",
              "    </tr>\n",
              "  </tbody>\n",
              "</table>\n",
              "</div>"
            ],
            "text/plain": [
              "  res_state     sex  count\n",
              "0        NJ  Female      3\n",
              "1        NJ  Female      3\n",
              "2        NJ    Male      1\n",
              "3        NJ    Male      2\n",
              "4        NY    Male      1"
            ]
          },
          "metadata": {},
          "execution_count": 10
        }
      ]
    },
    {
      "cell_type": "code",
      "metadata": {
        "colab": {
          "base_uri": "https://localhost:8080/"
        },
        "id": "rcdItkrl0LcI",
        "outputId": "eba16b10-d49d-4571-dd86-f5822428ae68"
      },
      "source": [
        "male = gender_month_df[gender_month_df[\"sex\"]=='Male']['count']\n",
        "female = gender_month_df[gender_month_df[\"sex\"]=='Female']['count']\n",
        "\n",
        "\n",
        "male\n",
        "\n",
        "female"
      ],
      "execution_count": null,
      "outputs": [
        {
          "output_type": "execute_result",
          "data": {
            "text/plain": [
              "0         3\n",
              "1         3\n",
              "6         2\n",
              "7         4\n",
              "8         1\n",
              "         ..\n",
              "102465    1\n",
              "102466    1\n",
              "102470    1\n",
              "102473    1\n",
              "102474    2\n",
              "Name: count, Length: 55264, dtype: int64"
            ]
          },
          "metadata": {},
          "execution_count": 11
        }
      ]
    },
    {
      "cell_type": "code",
      "metadata": {
        "colab": {
          "base_uri": "https://localhost:8080/"
        },
        "id": "aoECjJwxLBUs",
        "outputId": "fac67a20-81f5-4fda-c3cc-ddaa474b94fc"
      },
      "source": [
        "t_value,p_value=stats.ttest_ind(male,female)\n",
        "\n",
        "one_tailed_p_value=float(\"{:.6f}\".format(p_value/2))\n",
        "\n",
        "print('Test statistic is %f'%float(\"{:.6f}\".format(t_value)))\n",
        "\n",
        "print('p-value for two tailed test is %f'%p_value)\n",
        "\n",
        "print('p-value for one_tailed_test is %f'%one_tailed_p_value)\n",
        "\n",
        "alpha = 0.05\n",
        "\n",
        "if p_value<=alpha:\n",
        "\n",
        "    print('Conclusion','n','Since p-value(=%f)'%p_value,'<','alpha(=%.2f)'%alpha,'''We reject the null hypothesis H0. So we conclude that the \n",
        "\n",
        "    effect of male and female death counts are not equal i.e., μ1 = μ2 at %.2f level of significance.'''%alpha)\n",
        "\n",
        "else:\n",
        "\n",
        "    print('Conclusion','n','Since p-value(=%f)'%one_tailed_p_value,'>','alpha(=%.2f)'%alpha,'''We do not reject the null hypothesis H0. \n",
        "\n",
        "So we conclude that the students have not benefited by the tuition class. i.e., d = 0 at %.2f level of significance.'''%alpha)\n"
      ],
      "execution_count": null,
      "outputs": [
        {
          "output_type": "stream",
          "name": "stdout",
          "text": [
            "Test statistic is -3.546468\n",
            "p-value for two tailed test is 0.000391\n",
            "p-value for one_tailed_test is 0.000195\n",
            "Conclusion n Since p-value(=0.000391) < alpha(=0.05) We reject the null hypothesis H0. So we conclude that the \n",
            "\n",
            "    effect of male and female death counts are not equal i.e., μ1 = μ2 at 0.05 level of significance.\n"
          ]
        }
      ]
    },
    {
      "cell_type": "markdown",
      "metadata": {
        "id": "FETHEJ8aRByh"
      },
      "source": [
        "1. Check assumptions and write hypotheses\n",
        "In order to use Pearson's  both variables must be quantitative and the relationship between  and  must be linear\n",
        "\n",
        "Research Question\tIs the correlation in the population different from 0?\tIs the correlation in the population positive?\tIs the correlation in the population negative?\n",
        "Null Hypothesis, \t\t\t\n",
        "Alternative Hypothesis, \t\t\t\n",
        "Type of Hypothesis Test\tTwo-tailed, non-directional\tRight-tailed, directional\tLeft-tailed, directional\n",
        "2. Calculate the test statistic\n",
        "Use Minitab to compute \n",
        "\n",
        "3. Determine the p-value\n",
        "Minitab will give you the p-value for a two-tailed test (i.e., ). If you are conducting a one-tailed test you will need to divide the p-value in the output by 2.\n",
        "\n",
        "4. Make a decision\n",
        "If  reject the null hypothesis, there is evidence of a relationship in the population.\n",
        "\n",
        "If  fail to reject the null hypothesis, there is not evidence of a relationship in the population.\n",
        "\n",
        "5. State a \"real world\" conclusion.\n",
        "Based on your decision in Step 4, write a conclusion in terms of the original research question."
      ]
    },
    {
      "cell_type": "markdown",
      "metadata": {
        "id": "_0fYEGEoId_-"
      },
      "source": [
        "**H0: Maximum deaths happened are in 18-49 years age group people H1:Maximum deaths are not in 18-49 years age group people**"
      ]
    },
    {
      "cell_type": "markdown",
      "metadata": {
        "id": "sFfQ2EHJ9DT1"
      },
      "source": [
        "**AGE** **GROUP**"
      ]
    },
    {
      "cell_type": "code",
      "metadata": {
        "id": "gTmFMkVSMpCk",
        "colab": {
          "base_uri": "https://localhost:8080/",
          "height": 419
        },
        "outputId": "8ba4d425-d753-4b57-9539-2b56833e6b41"
      },
      "source": [
        "#Age group \n",
        "\n",
        "#H0: Maximum deaths happened are in 18-49 years age group people\n",
        "#H1:Maximum deaths are not in 18-49 years age group people\n",
        "#ANOVA testing\n",
        "\n",
        "age_df = df[['case_month','res_state','age_group','count']]\n",
        "\n",
        "age_melt = pd.melt(age_df, id_vars =['res_state'], value_vars =['age_group'])\n",
        "\n",
        "#age_df.age_group\n",
        "age_df\n"
      ],
      "execution_count": null,
      "outputs": [
        {
          "output_type": "execute_result",
          "data": {
            "text/html": [
              "<div>\n",
              "<style scoped>\n",
              "    .dataframe tbody tr th:only-of-type {\n",
              "        vertical-align: middle;\n",
              "    }\n",
              "\n",
              "    .dataframe tbody tr th {\n",
              "        vertical-align: top;\n",
              "    }\n",
              "\n",
              "    .dataframe thead th {\n",
              "        text-align: right;\n",
              "    }\n",
              "</style>\n",
              "<table border=\"1\" class=\"dataframe\">\n",
              "  <thead>\n",
              "    <tr style=\"text-align: right;\">\n",
              "      <th></th>\n",
              "      <th>case_month</th>\n",
              "      <th>res_state</th>\n",
              "      <th>age_group</th>\n",
              "      <th>count</th>\n",
              "    </tr>\n",
              "  </thead>\n",
              "  <tbody>\n",
              "    <tr>\n",
              "      <th>0</th>\n",
              "      <td>2020-01</td>\n",
              "      <td>NJ</td>\n",
              "      <td>18 to 49 years</td>\n",
              "      <td>3</td>\n",
              "    </tr>\n",
              "    <tr>\n",
              "      <th>1</th>\n",
              "      <td>2020-01</td>\n",
              "      <td>NJ</td>\n",
              "      <td>18 to 49 years</td>\n",
              "      <td>3</td>\n",
              "    </tr>\n",
              "    <tr>\n",
              "      <th>2</th>\n",
              "      <td>2020-01</td>\n",
              "      <td>NJ</td>\n",
              "      <td>65+ years</td>\n",
              "      <td>1</td>\n",
              "    </tr>\n",
              "    <tr>\n",
              "      <th>3</th>\n",
              "      <td>2020-01</td>\n",
              "      <td>NJ</td>\n",
              "      <td>65+ years</td>\n",
              "      <td>2</td>\n",
              "    </tr>\n",
              "    <tr>\n",
              "      <th>4</th>\n",
              "      <td>2020-02</td>\n",
              "      <td>NY</td>\n",
              "      <td>50 to 64 years</td>\n",
              "      <td>1</td>\n",
              "    </tr>\n",
              "    <tr>\n",
              "      <th>...</th>\n",
              "      <td>...</td>\n",
              "      <td>...</td>\n",
              "      <td>...</td>\n",
              "      <td>...</td>\n",
              "    </tr>\n",
              "    <tr>\n",
              "      <th>102470</th>\n",
              "      <td>2021-08</td>\n",
              "      <td>UT</td>\n",
              "      <td>18 to 49 years</td>\n",
              "      <td>1</td>\n",
              "    </tr>\n",
              "    <tr>\n",
              "      <th>102471</th>\n",
              "      <td>2021-08</td>\n",
              "      <td>UT</td>\n",
              "      <td>18 to 49 years</td>\n",
              "      <td>1</td>\n",
              "    </tr>\n",
              "    <tr>\n",
              "      <th>102472</th>\n",
              "      <td>2021-08</td>\n",
              "      <td>UT</td>\n",
              "      <td>18 to 49 years</td>\n",
              "      <td>1</td>\n",
              "    </tr>\n",
              "    <tr>\n",
              "      <th>102473</th>\n",
              "      <td>2021-08</td>\n",
              "      <td>VA</td>\n",
              "      <td>18 to 49 years</td>\n",
              "      <td>1</td>\n",
              "    </tr>\n",
              "    <tr>\n",
              "      <th>102474</th>\n",
              "      <td>2021-08</td>\n",
              "      <td>VA</td>\n",
              "      <td>18 to 49 years</td>\n",
              "      <td>2</td>\n",
              "    </tr>\n",
              "  </tbody>\n",
              "</table>\n",
              "<p>102475 rows × 4 columns</p>\n",
              "</div>"
            ],
            "text/plain": [
              "       case_month res_state       age_group  count\n",
              "0         2020-01        NJ  18 to 49 years      3\n",
              "1         2020-01        NJ  18 to 49 years      3\n",
              "2         2020-01        NJ       65+ years      1\n",
              "3         2020-01        NJ       65+ years      2\n",
              "4         2020-02        NY  50 to 64 years      1\n",
              "...           ...       ...             ...    ...\n",
              "102470    2021-08        UT  18 to 49 years      1\n",
              "102471    2021-08        UT  18 to 49 years      1\n",
              "102472    2021-08        UT  18 to 49 years      1\n",
              "102473    2021-08        VA  18 to 49 years      1\n",
              "102474    2021-08        VA  18 to 49 years      2\n",
              "\n",
              "[102475 rows x 4 columns]"
            ]
          },
          "metadata": {},
          "execution_count": 18
        }
      ]
    },
    {
      "cell_type": "code",
      "metadata": {
        "id": "lHvcrpFK3VCp"
      },
      "source": [
        "#age_df = age_df.set_index('age_group').T\n",
        "\n",
        "#age_df"
      ],
      "execution_count": null,
      "outputs": []
    },
    {
      "cell_type": "code",
      "metadata": {
        "id": "peLseBuc4Erx"
      },
      "source": [
        "a_df = df.groupby(['age_group','case_month']).sum('count').reset_index()\n",
        "\n",
        "\n",
        "#a_df = a_df.set_index('age_group').T\n",
        "#a_df\n",
        "\n",
        "agegroup1_df = a_df.loc[(a_df['age_group'].isin(['0 - 17 years'])),\n",
        "                    ['case_month','age_group','count']].head(16)\n",
        "agegroup2_df = a_df.loc[(a_df['age_group'].isin(['18 to 49 years'])),\n",
        "                    ['case_month','age_group','count']].head(16)\n",
        "agegroup3_df = a_df.loc[(a_df['age_group'].isin(['50 to 64 years'])),\n",
        "                    ['case_month','age_group','count']].head(16)\n",
        "agegroup4_df = a_df.loc[(a_df['age_group'].isin(['65+ years'])),\n",
        "                    ['case_month','age_group','count']].head(16)\n",
        "#b_df = age_df.loc[(age_df['case_month'].isin(['2020-11','2020-12','2020-10'])) & (age_df['age_group'].isin(['18 to 49 years'])) & (age_df['res_state'].isin(['NY','FL','OH'])),\n",
        "#                    ['count']].head()\n",
        "#c_df = age_df.loc[(age_df['case_month'].isin(['2020-11','2020-12','2020-10'])) & (age_df['age_group'].isin(['50 to 64 years'])) & (age_df['res_state'].isin(['NY','FL','OH'])),\n",
        "#                    ['count']].head()\n",
        "#d_df = age_df.loc[(age_df['case_month'].isin(['2020-11','2020-12','2020-10'])) & (age_df['age_group'].isin(['65+ years'])) & (age_df['res_state'].isin(['NY','FL','OH'])),\n",
        "#                    ['count']].head()\n",
        "#a_df"
      ],
      "execution_count": null,
      "outputs": []
    },
    {
      "cell_type": "code",
      "metadata": {
        "colab": {
          "base_uri": "https://localhost:8080/"
        },
        "id": "3msu4r0j4WHI",
        "outputId": "ba0e7f04-e981-480b-977e-94ec0c2c51d3"
      },
      "source": [
        "[agegroup1_df['count']]"
      ],
      "execution_count": null,
      "outputs": [
        {
          "output_type": "execute_result",
          "data": {
            "text/plain": [
              "[0      134\n",
              " 1      605\n",
              " 2      973\n",
              " 3     2333\n",
              " 4     2804\n",
              " 5     1863\n",
              " 6     2658\n",
              " 7     4829\n",
              " 8     8649\n",
              " 9     8424\n",
              " 10    7900\n",
              " 11    2890\n",
              " 12    2818\n",
              " 13    4217\n",
              " 14    1961\n",
              " 15     279\n",
              " Name: count, dtype: int64]"
            ]
          },
          "metadata": {},
          "execution_count": 14
        }
      ]
    },
    {
      "cell_type": "code",
      "metadata": {
        "id": "EF1k51al4rvS"
      },
      "source": [
        "#len(agegroup2_df)"
      ],
      "execution_count": null,
      "outputs": []
    },
    {
      "cell_type": "code",
      "metadata": {
        "id": "xlp1GsGD5vWF"
      },
      "source": [
        "#len(agegroup3_df)"
      ],
      "execution_count": null,
      "outputs": []
    },
    {
      "cell_type": "code",
      "metadata": {
        "id": "H2Fw52kw5x3B"
      },
      "source": [
        "#len(agegroup4_df)"
      ],
      "execution_count": null,
      "outputs": []
    },
    {
      "cell_type": "code",
      "metadata": {
        "id": "QxnUlI_UDNCI"
      },
      "source": [
        "#a_df['count']"
      ],
      "execution_count": null,
      "outputs": []
    },
    {
      "cell_type": "code",
      "metadata": {
        "colab": {
          "base_uri": "https://localhost:8080/"
        },
        "id": "okk0LsuNJca9",
        "outputId": "f7999344-8e56-4ece-8876-241f47993dc1"
      },
      "source": [
        "#Explanatory variable is categorical and response variable is Quantitative variable\n",
        "#ANOVA\n",
        "\n",
        "# stats f_oneway functions takes the groups as input and returns ANOVA F and p value\n",
        "fvalue, pvalue = stats.f_oneway(agegroup1_df['count'],agegroup2_df['count'],agegroup3_df['count'],agegroup4_df['count'])\n",
        "print(fvalue, pvalue)"
      ],
      "execution_count": null,
      "outputs": [
        {
          "output_type": "stream",
          "name": "stdout",
          "text": [
            "12.228850305901386 2.4018837164440905e-06\n"
          ]
        }
      ]
    },
    {
      "cell_type": "code",
      "metadata": {
        "colab": {
          "base_uri": "https://localhost:8080/"
        },
        "id": "FHlLqOZVERXV",
        "outputId": "0266abaf-df87-43fd-9e12-654420f452ec"
      },
      "source": [
        "mc1 = MultiComparison(a_df['count'], a_df['age_group'])\n",
        "mc1_results = mc1.tukeyhsd()\n",
        "print(mc1_results)"
      ],
      "execution_count": null,
      "outputs": [
        {
          "output_type": "stream",
          "name": "stdout",
          "text": [
            "             Multiple Comparison of Means - Tukey HSD, FWER=0.05              \n",
            "==============================================================================\n",
            "    group1         group2       meandiff  p-adj     lower      upper    reject\n",
            "------------------------------------------------------------------------------\n",
            "  0 - 17 years 18 to 49 years  20823.6625  0.001  10302.6951   31344.63   True\n",
            "  0 - 17 years 50 to 64 years   8887.3994 0.1269  -1633.5681 19408.3668  False\n",
            "  0 - 17 years      65+ years   9080.6625 0.1148  -1440.3049   19601.63  False\n",
            "18 to 49 years 50 to 64 years -11936.2632 0.0156 -22160.8057 -1711.7206   True\n",
            "18 to 49 years      65+ years    -11743.0  0.018 -21967.5425 -1518.4575   True\n",
            "50 to 64 years      65+ years    193.2632    0.9 -10031.2794 10417.8057  False\n",
            "------------------------------------------------------------------------------\n"
          ]
        }
      ]
    },
    {
      "cell_type": "code",
      "metadata": {
        "colab": {
          "base_uri": "https://localhost:8080/",
          "height": 419
        },
        "id": "_W_CcmNvFVRh",
        "outputId": "9aabda29-92e3-4acb-b768-372e77977d34"
      },
      "source": [
        "\n",
        "a_df"
      ],
      "execution_count": null,
      "outputs": [
        {
          "output_type": "execute_result",
          "data": {
            "text/html": [
              "<div>\n",
              "<style scoped>\n",
              "    .dataframe tbody tr th:only-of-type {\n",
              "        vertical-align: middle;\n",
              "    }\n",
              "\n",
              "    .dataframe tbody tr th {\n",
              "        vertical-align: top;\n",
              "    }\n",
              "\n",
              "    .dataframe thead th {\n",
              "        text-align: right;\n",
              "    }\n",
              "</style>\n",
              "<table border=\"1\" class=\"dataframe\">\n",
              "  <thead>\n",
              "    <tr style=\"text-align: right;\">\n",
              "      <th></th>\n",
              "      <th>age_group</th>\n",
              "      <th>case_month</th>\n",
              "      <th>count</th>\n",
              "    </tr>\n",
              "  </thead>\n",
              "  <tbody>\n",
              "    <tr>\n",
              "      <th>0</th>\n",
              "      <td>0 - 17 years</td>\n",
              "      <td>2020-03</td>\n",
              "      <td>134</td>\n",
              "    </tr>\n",
              "    <tr>\n",
              "      <th>1</th>\n",
              "      <td>0 - 17 years</td>\n",
              "      <td>2020-04</td>\n",
              "      <td>605</td>\n",
              "    </tr>\n",
              "    <tr>\n",
              "      <th>2</th>\n",
              "      <td>0 - 17 years</td>\n",
              "      <td>2020-05</td>\n",
              "      <td>973</td>\n",
              "    </tr>\n",
              "    <tr>\n",
              "      <th>3</th>\n",
              "      <td>0 - 17 years</td>\n",
              "      <td>2020-06</td>\n",
              "      <td>2333</td>\n",
              "    </tr>\n",
              "    <tr>\n",
              "      <th>4</th>\n",
              "      <td>0 - 17 years</td>\n",
              "      <td>2020-07</td>\n",
              "      <td>2804</td>\n",
              "    </tr>\n",
              "    <tr>\n",
              "      <th>...</th>\n",
              "      <td>...</td>\n",
              "      <td>...</td>\n",
              "      <td>...</td>\n",
              "    </tr>\n",
              "    <tr>\n",
              "      <th>69</th>\n",
              "      <td>65+ years</td>\n",
              "      <td>2021-03</td>\n",
              "      <td>5270</td>\n",
              "    </tr>\n",
              "    <tr>\n",
              "      <th>70</th>\n",
              "      <td>65+ years</td>\n",
              "      <td>2021-04</td>\n",
              "      <td>4077</td>\n",
              "    </tr>\n",
              "    <tr>\n",
              "      <th>71</th>\n",
              "      <td>65+ years</td>\n",
              "      <td>2021-05</td>\n",
              "      <td>1698</td>\n",
              "    </tr>\n",
              "    <tr>\n",
              "      <th>72</th>\n",
              "      <td>65+ years</td>\n",
              "      <td>2021-06</td>\n",
              "      <td>394</td>\n",
              "    </tr>\n",
              "    <tr>\n",
              "      <th>73</th>\n",
              "      <td>65+ years</td>\n",
              "      <td>2021-07</td>\n",
              "      <td>2285</td>\n",
              "    </tr>\n",
              "  </tbody>\n",
              "</table>\n",
              "<p>74 rows × 3 columns</p>\n",
              "</div>"
            ],
            "text/plain": [
              "       age_group case_month  count\n",
              "0   0 - 17 years    2020-03    134\n",
              "1   0 - 17 years    2020-04    605\n",
              "2   0 - 17 years    2020-05    973\n",
              "3   0 - 17 years    2020-06   2333\n",
              "4   0 - 17 years    2020-07   2804\n",
              "..           ...        ...    ...\n",
              "69     65+ years    2021-03   5270\n",
              "70     65+ years    2021-04   4077\n",
              "71     65+ years    2021-05   1698\n",
              "72     65+ years    2021-06    394\n",
              "73     65+ years    2021-07   2285\n",
              "\n",
              "[74 rows x 3 columns]"
            ]
          },
          "metadata": {},
          "execution_count": 26
        }
      ]
    },
    {
      "cell_type": "code",
      "metadata": {
        "colab": {
          "base_uri": "https://localhost:8080/",
          "height": 626
        },
        "id": "O0YQP20qLTwt",
        "outputId": "29d66971-2d58-42b0-f552-dd356a270dcf"
      },
      "source": [
        "ggplot(a_df, aes(x='case_month',y='count',color='age_group',group = 'age_group')) + geom_boxplot() + theme(\n",
        "    figure_size=(15, 6))"
      ],
      "execution_count": null,
      "outputs": [
        {
          "output_type": "stream",
          "name": "stderr",
          "text": [
            "/usr/local/lib/python3.7/dist-packages/plotnine/utils.py:1246: FutureWarning: is_categorical is deprecated and will be removed in a future version.  Use is_categorical_dtype instead\n",
            "  if pdtypes.is_categorical(arr):\n",
            "/usr/local/lib/python3.7/dist-packages/plotnine/stats/stat_boxplot.py:86: FutureWarning: is_categorical is deprecated and will be removed in a future version.  Use is_categorical_dtype instead\n",
            "  if pdtypes.is_categorical(data['x']):\n"
          ]
        },
        {
          "output_type": "display_data",
          "data": {
            "image/png": "[encoded data removed]",
            "text/plain": [
              "<Figure size 1500x600 with 1 Axes>"
            ]
          },
          "metadata": {}
        },
        {
          "output_type": "execute_result",
          "data": {
            "text/plain": [
              "<ggplot: (8750627773653)>"
            ]
          },
          "metadata": {},
          "execution_count": 29
        }
      ]
    },
    {
      "cell_type": "markdown",
      "metadata": {
        "id": "HVIos9BA6r2r"
      },
      "source": [
        "**GENDER** **DATA** "
      ]
    },
    {
      "cell_type": "code",
      "metadata": {
        "id": "VlfQ3qCi6041"
      },
      "source": [
        "g_df = df.groupby(['sex','case_month']).sum('count').reset_index()\n",
        "#g_df"
      ],
      "execution_count": null,
      "outputs": []
    },
    {
      "cell_type": "code",
      "metadata": {
        "id": "8yV8HVom7G4t"
      },
      "source": [
        "male_df = g_df.loc[(g_df['sex'].isin(['Male'])),\n",
        "                    ['case_month','sex','count']]\n",
        "#male_df"
      ],
      "execution_count": null,
      "outputs": []
    },
    {
      "cell_type": "code",
      "metadata": {
        "id": "LA7TLHiT7k9v"
      },
      "source": [
        "female_df = g_df.loc[(g_df['sex'].isin(['Female'])),\n",
        "                    ['case_month','sex','count']]\n",
        "#female_df"
      ],
      "execution_count": null,
      "outputs": []
    },
    {
      "cell_type": "code",
      "metadata": {
        "colab": {
          "base_uri": "https://localhost:8080/"
        },
        "id": "y5xgYpDvbXBL",
        "outputId": "54363459-0140-40f2-e5e5-45035c3cb564"
      },
      "source": [
        "#Explanatory variable is categorical and response variable is Quantitative variable\n",
        "#ANOVA\n",
        "\n",
        "# stats f_oneway functions takes the groups as input and returns ANOVA F and p value\n",
        "fvalue, pvalue = stats.f_oneway(male_df['count'],female_df['count'])\n",
        "print(fvalue, pvalue)"
      ],
      "execution_count": null,
      "outputs": [
        {
          "output_type": "stream",
          "name": "stdout",
          "text": [
            "1.0608765644846043 0.30952685990352197\n"
          ]
        }
      ]
    },
    {
      "cell_type": "code",
      "metadata": {
        "colab": {
          "base_uri": "https://localhost:8080/",
          "height": 626
        },
        "id": "axmVeuAJI8MJ",
        "outputId": "d5cc82f4-547a-4a9a-b604-f17dffb4d434"
      },
      "source": [
        "ggplot(g_df, aes(x='case_month',y='count',color='sex',group = 'sex')) + geom_boxplot() + theme(\n",
        "    figure_size=(15, 6))"
      ],
      "execution_count": null,
      "outputs": [
        {
          "output_type": "stream",
          "name": "stderr",
          "text": [
            "/usr/local/lib/python3.7/dist-packages/plotnine/utils.py:1246: FutureWarning: is_categorical is deprecated and will be removed in a future version.  Use is_categorical_dtype instead\n",
            "  if pdtypes.is_categorical(arr):\n",
            "/usr/local/lib/python3.7/dist-packages/plotnine/stats/stat_boxplot.py:86: FutureWarning: is_categorical is deprecated and will be removed in a future version.  Use is_categorical_dtype instead\n",
            "  if pdtypes.is_categorical(data['x']):\n"
          ]
        },
        {
          "output_type": "display_data",
          "data": {
            "image/png": "[encoded data removed]",
            "text/plain": [
              "<Figure size 1500x600 with 1 Axes>"
            ]
          },
          "metadata": {}
        },
        {
          "output_type": "execute_result",
          "data": {
            "text/plain": [
              "<ggplot: (8750627910037)>"
            ]
          },
          "metadata": {},
          "execution_count": 35
        }
      ]
    },
    {
      "cell_type": "markdown",
      "metadata": {
        "id": "ZbpbQJ-3-6Go"
      },
      "source": [
        "**H0:Deaths are more in people with Symptoms H1:Deaths are not more in people with Symptoms**"
      ]
    },
    {
      "cell_type": "code",
      "metadata": {
        "colab": {
          "base_uri": "https://localhost:8080/",
          "height": 419
        },
        "id": "jgSs0KU79JIn",
        "outputId": "bcb97817-96aa-4bde-b5e5-f6413537d170"
      },
      "source": [
        "s_df = df.groupby(['symptom_status','case_month']).sum('count').reset_index()\n",
        "s_df"
      ],
      "execution_count": null,
      "outputs": [
        {
          "output_type": "execute_result",
          "data": {
            "text/html": [
              "<div>\n",
              "<style scoped>\n",
              "    .dataframe tbody tr th:only-of-type {\n",
              "        vertical-align: middle;\n",
              "    }\n",
              "\n",
              "    .dataframe tbody tr th {\n",
              "        vertical-align: top;\n",
              "    }\n",
              "\n",
              "    .dataframe thead th {\n",
              "        text-align: right;\n",
              "    }\n",
              "</style>\n",
              "<table border=\"1\" class=\"dataframe\">\n",
              "  <thead>\n",
              "    <tr style=\"text-align: right;\">\n",
              "      <th></th>\n",
              "      <th>symptom_status</th>\n",
              "      <th>case_month</th>\n",
              "      <th>count</th>\n",
              "    </tr>\n",
              "  </thead>\n",
              "  <tbody>\n",
              "    <tr>\n",
              "      <th>0</th>\n",
              "      <td>Asymptomatic</td>\n",
              "      <td>2020-03</td>\n",
              "      <td>59</td>\n",
              "    </tr>\n",
              "    <tr>\n",
              "      <th>1</th>\n",
              "      <td>Asymptomatic</td>\n",
              "      <td>2020-04</td>\n",
              "      <td>1386</td>\n",
              "    </tr>\n",
              "    <tr>\n",
              "      <th>2</th>\n",
              "      <td>Asymptomatic</td>\n",
              "      <td>2020-05</td>\n",
              "      <td>2636</td>\n",
              "    </tr>\n",
              "    <tr>\n",
              "      <th>3</th>\n",
              "      <td>Asymptomatic</td>\n",
              "      <td>2020-06</td>\n",
              "      <td>2439</td>\n",
              "    </tr>\n",
              "    <tr>\n",
              "      <th>4</th>\n",
              "      <td>Asymptomatic</td>\n",
              "      <td>2020-07</td>\n",
              "      <td>4207</td>\n",
              "    </tr>\n",
              "    <tr>\n",
              "      <th>...</th>\n",
              "      <td>...</td>\n",
              "      <td>...</td>\n",
              "      <td>...</td>\n",
              "    </tr>\n",
              "    <tr>\n",
              "      <th>71</th>\n",
              "      <td>Unknown</td>\n",
              "      <td>2021-04</td>\n",
              "      <td>341</td>\n",
              "    </tr>\n",
              "    <tr>\n",
              "      <th>72</th>\n",
              "      <td>Unknown</td>\n",
              "      <td>2021-05</td>\n",
              "      <td>189</td>\n",
              "    </tr>\n",
              "    <tr>\n",
              "      <th>73</th>\n",
              "      <td>Unknown</td>\n",
              "      <td>2021-06</td>\n",
              "      <td>92</td>\n",
              "    </tr>\n",
              "    <tr>\n",
              "      <th>74</th>\n",
              "      <td>Unknown</td>\n",
              "      <td>2021-07</td>\n",
              "      <td>278</td>\n",
              "    </tr>\n",
              "    <tr>\n",
              "      <th>75</th>\n",
              "      <td>Unknown</td>\n",
              "      <td>2021-08</td>\n",
              "      <td>5</td>\n",
              "    </tr>\n",
              "  </tbody>\n",
              "</table>\n",
              "<p>76 rows × 3 columns</p>\n",
              "</div>"
            ],
            "text/plain": [
              "   symptom_status case_month  count\n",
              "0    Asymptomatic    2020-03     59\n",
              "1    Asymptomatic    2020-04   1386\n",
              "2    Asymptomatic    2020-05   2636\n",
              "3    Asymptomatic    2020-06   2439\n",
              "4    Asymptomatic    2020-07   4207\n",
              "..            ...        ...    ...\n",
              "71        Unknown    2021-04    341\n",
              "72        Unknown    2021-05    189\n",
              "73        Unknown    2021-06     92\n",
              "74        Unknown    2021-07    278\n",
              "75        Unknown    2021-08      5\n",
              "\n",
              "[76 rows x 3 columns]"
            ]
          },
          "metadata": {},
          "execution_count": 36
        }
      ]
    },
    {
      "cell_type": "code",
      "metadata": {
        "id": "9aaHrFr0b8nl"
      },
      "source": [
        "s1_df = s_df.loc[(s_df['symptom_status'].isin(['Asymptomatic'])),\n",
        "                    ['case_month','symptom_status','count']]\n",
        "s2_df = s_df.loc[(s_df['symptom_status'].isin(['Symptomatic'])),\n",
        "                    ['case_month','symptom_status','count']]\n"
      ],
      "execution_count": null,
      "outputs": []
    },
    {
      "cell_type": "code",
      "metadata": {
        "id": "05ODKXn6A5jY"
      },
      "source": [
        "#s1_df"
      ],
      "execution_count": null,
      "outputs": []
    },
    {
      "cell_type": "code",
      "metadata": {
        "id": "MIy9c6yZA8QQ"
      },
      "source": [
        "#s2_df"
      ],
      "execution_count": null,
      "outputs": []
    },
    {
      "cell_type": "code",
      "metadata": {
        "colab": {
          "base_uri": "https://localhost:8080/"
        },
        "id": "6wc9BiwAc6Mr",
        "outputId": "38ac590a-60f8-4491-aae7-d3e152384a9f"
      },
      "source": [
        "#Explanatory variable is categorical and response variable is Quantitative variable\n",
        "#ANOVA\n",
        "\n",
        "# stats f_oneway functions takes the groups as input and returns ANOVA F and p value\n",
        "fvalue, pvalue = stats.f_oneway(s1_df['count'],s2_df['count'])\n",
        "print(fvalue, pvalue)"
      ],
      "execution_count": null,
      "outputs": [
        {
          "output_type": "stream",
          "name": "stdout",
          "text": [
            "21.077195386761918 5.205147770842483e-05\n"
          ]
        }
      ]
    },
    {
      "cell_type": "code",
      "metadata": {
        "colab": {
          "base_uri": "https://localhost:8080/",
          "height": 626
        },
        "id": "o1hETZi7JZ5K",
        "outputId": "d3d49ef4-5cf8-4085-ca08-d5ecb4163057"
      },
      "source": [
        "ggplot(s_df, aes(x='case_month',y='count',color='symptom_status',group = 'symptom_status')) + geom_boxplot() + theme(\n",
        "    figure_size=(15, 6))"
      ],
      "execution_count": null,
      "outputs": [
        {
          "output_type": "stream",
          "name": "stderr",
          "text": [
            "/usr/local/lib/python3.7/dist-packages/plotnine/utils.py:1246: FutureWarning: is_categorical is deprecated and will be removed in a future version.  Use is_categorical_dtype instead\n",
            "  if pdtypes.is_categorical(arr):\n",
            "/usr/local/lib/python3.7/dist-packages/plotnine/stats/stat_boxplot.py:86: FutureWarning: is_categorical is deprecated and will be removed in a future version.  Use is_categorical_dtype instead\n",
            "  if pdtypes.is_categorical(data['x']):\n"
          ]
        },
        {
          "output_type": "display_data",
          "data": {
            "image/png": "[encoded data removed]",
            "text/plain": [
              "<Figure size 1500x600 with 1 Axes>"
            ]
          },
          "metadata": {}
        },
        {
          "output_type": "execute_result",
          "data": {
            "text/plain": [
              "<ggplot: (8750628027637)>"
            ]
          },
          "metadata": {},
          "execution_count": 39
        }
      ]
    },
    {
      "cell_type": "markdown",
      "metadata": {
        "id": "RnRgd_7EByH-"
      },
      "source": [
        "**H0:Total deaths are more in white race than other races H1:Total deaths are not more in white race than other races**"
      ]
    },
    {
      "cell_type": "code",
      "metadata": {
        "colab": {
          "base_uri": "https://localhost:8080/",
          "height": 419
        },
        "id": "FFOScUDoBwtS",
        "outputId": "cdb85d5a-3f01-440b-ccc6-c5e9c58a8dee"
      },
      "source": [
        "r_df = df.groupby(['race','case_month']).sum('count').reset_index()\n",
        "r_df"
      ],
      "execution_count": null,
      "outputs": [
        {
          "output_type": "execute_result",
          "data": {
            "text/html": [
              "<div>\n",
              "<style scoped>\n",
              "    .dataframe tbody tr th:only-of-type {\n",
              "        vertical-align: middle;\n",
              "    }\n",
              "\n",
              "    .dataframe tbody tr th {\n",
              "        vertical-align: top;\n",
              "    }\n",
              "\n",
              "    .dataframe thead th {\n",
              "        text-align: right;\n",
              "    }\n",
              "</style>\n",
              "<table border=\"1\" class=\"dataframe\">\n",
              "  <thead>\n",
              "    <tr style=\"text-align: right;\">\n",
              "      <th></th>\n",
              "      <th>race</th>\n",
              "      <th>case_month</th>\n",
              "      <th>count</th>\n",
              "    </tr>\n",
              "  </thead>\n",
              "  <tbody>\n",
              "    <tr>\n",
              "      <th>0</th>\n",
              "      <td>American Indian/Alaska Native</td>\n",
              "      <td>2020-03</td>\n",
              "      <td>2</td>\n",
              "    </tr>\n",
              "    <tr>\n",
              "      <th>1</th>\n",
              "      <td>American Indian/Alaska Native</td>\n",
              "      <td>2020-04</td>\n",
              "      <td>33</td>\n",
              "    </tr>\n",
              "    <tr>\n",
              "      <th>2</th>\n",
              "      <td>American Indian/Alaska Native</td>\n",
              "      <td>2020-05</td>\n",
              "      <td>116</td>\n",
              "    </tr>\n",
              "    <tr>\n",
              "      <th>3</th>\n",
              "      <td>American Indian/Alaska Native</td>\n",
              "      <td>2020-06</td>\n",
              "      <td>81</td>\n",
              "    </tr>\n",
              "    <tr>\n",
              "      <th>4</th>\n",
              "      <td>American Indian/Alaska Native</td>\n",
              "      <td>2020-07</td>\n",
              "      <td>234</td>\n",
              "    </tr>\n",
              "    <tr>\n",
              "      <th>...</th>\n",
              "      <td>...</td>\n",
              "      <td>...</td>\n",
              "      <td>...</td>\n",
              "    </tr>\n",
              "    <tr>\n",
              "      <th>122</th>\n",
              "      <td>White</td>\n",
              "      <td>2021-04</td>\n",
              "      <td>26986</td>\n",
              "    </tr>\n",
              "    <tr>\n",
              "      <th>123</th>\n",
              "      <td>White</td>\n",
              "      <td>2021-05</td>\n",
              "      <td>12397</td>\n",
              "    </tr>\n",
              "    <tr>\n",
              "      <th>124</th>\n",
              "      <td>White</td>\n",
              "      <td>2021-06</td>\n",
              "      <td>3555</td>\n",
              "    </tr>\n",
              "    <tr>\n",
              "      <th>125</th>\n",
              "      <td>White</td>\n",
              "      <td>2021-07</td>\n",
              "      <td>12408</td>\n",
              "    </tr>\n",
              "    <tr>\n",
              "      <th>126</th>\n",
              "      <td>White</td>\n",
              "      <td>2021-08</td>\n",
              "      <td>61</td>\n",
              "    </tr>\n",
              "  </tbody>\n",
              "</table>\n",
              "<p>127 rows × 3 columns</p>\n",
              "</div>"
            ],
            "text/plain": [
              "                              race case_month  count\n",
              "0    American Indian/Alaska Native    2020-03      2\n",
              "1    American Indian/Alaska Native    2020-04     33\n",
              "2    American Indian/Alaska Native    2020-05    116\n",
              "3    American Indian/Alaska Native    2020-06     81\n",
              "4    American Indian/Alaska Native    2020-07    234\n",
              "..                             ...        ...    ...\n",
              "122                          White    2021-04  26986\n",
              "123                          White    2021-05  12397\n",
              "124                          White    2021-06   3555\n",
              "125                          White    2021-07  12408\n",
              "126                          White    2021-08     61\n",
              "\n",
              "[127 rows x 3 columns]"
            ]
          },
          "metadata": {},
          "execution_count": 41
        }
      ]
    },
    {
      "cell_type": "code",
      "metadata": {
        "id": "WnLPJyYKCNUq"
      },
      "source": [
        "race1_df = r_df.loc[(r_df['race'].isin(['American Indian/Alaska Native'])),\n",
        "                    ['case_month','race','count']]\n",
        "race2_df = r_df.loc[(r_df['race'].isin(['White'])),\n",
        "                    ['case_month','race','count']]\n",
        "race3_df = r_df.loc[(r_df['race'].isin(['Asian'])),\n",
        "                    ['case_month','race','count']]\n",
        "race4_df = r_df.loc[(r_df['race'].isin(['Native Hawaiian/Other Pacific Islander'])),\n",
        "                    ['case_month','race','count']]\n",
        "race5_df = r_df.loc[(r_df['race'].isin(['Black'])),\n",
        "                    ['case_month','race','count']]\n",
        "                    \t"
      ],
      "execution_count": null,
      "outputs": []
    },
    {
      "cell_type": "code",
      "metadata": {
        "colab": {
          "base_uri": "https://localhost:8080/"
        },
        "id": "wsCQtoOeETGr",
        "outputId": "322b0185-8f78-456c-8f43-35bc5789f5ab"
      },
      "source": [
        "#Explanatory variable is categorical and response variable is Quantitative variable\n",
        "#ANOVA\n",
        "# stats f_oneway functions takes the groups as input and returns ANOVA F and p value\n",
        "fvalue, pvalue = stats.f_oneway(race1_df['count'],race2_df['count'])\n",
        "print(fvalue, pvalue)"
      ],
      "execution_count": null,
      "outputs": [
        {
          "output_type": "stream",
          "name": "stdout",
          "text": [
            "20.10089891820356 7.553376038930599e-05\n"
          ]
        }
      ]
    },
    {
      "cell_type": "code",
      "metadata": {
        "colab": {
          "base_uri": "https://localhost:8080/"
        },
        "id": "y82AXmIgF-5Y",
        "outputId": "b3ec091f-548f-4d57-ed87-6c687dad8176"
      },
      "source": [
        "fvalue, pvalue = stats.f_oneway(race3_df['count'],race4_df['count'])\n",
        "print(fvalue, pvalue)"
      ],
      "execution_count": null,
      "outputs": [
        {
          "output_type": "stream",
          "name": "stdout",
          "text": [
            "16.45854251688132 0.00028618045107744534\n"
          ]
        }
      ]
    },
    {
      "cell_type": "code",
      "metadata": {
        "colab": {
          "base_uri": "https://localhost:8080/"
        },
        "id": "JVyZ5LmJC86S",
        "outputId": "5fea55de-fcc0-49b8-a088-dcb0e13939b8"
      },
      "source": [
        "fvalue, pvalue = stats.f_oneway(race1_df['count'],race2_df['count'],race3_df['count'],race4_df['count'],race5_df['count'])\n",
        "print(fvalue, pvalue)"
      ],
      "execution_count": null,
      "outputs": [
        {
          "output_type": "stream",
          "name": "stdout",
          "text": [
            "18.593699513564818 5.2026844833219814e-11\n"
          ]
        }
      ]
    },
    {
      "cell_type": "code",
      "metadata": {
        "id": "qKUeMLE4JjNc",
        "colab": {
          "base_uri": "https://localhost:8080/"
        },
        "outputId": "9ecf8b42-276f-437b-c2ba-11107771e641"
      },
      "source": [
        "#post hoc test\n",
        "mc2 = MultiComparison(r_df['count'], r_df['race'])\n",
        "mc2_results = mc2.tukeyhsd()\n",
        "print(mc2_results)"
      ],
      "execution_count": null,
      "outputs": [
        {
          "output_type": "stream",
          "name": "stdout",
          "text": [
            "                                     Multiple Comparison of Means - Tukey HSD, FWER=0.05                                     \n",
            "=============================================================================================================================\n",
            "                group1                                 group2                  meandiff  p-adj     lower      upper    reject\n",
            "-----------------------------------------------------------------------------------------------------------------------------\n",
            "         American Indian/Alaska Native                                  Asian   812.3627    0.9 -12524.3758 14149.1013  False\n",
            "         American Indian/Alaska Native                                  Black  7454.0294 0.6153  -5882.7091 20790.7679  False\n",
            "         American Indian/Alaska Native                         Multiple/Other  2236.9183    0.9 -11099.8202 15573.6568  False\n",
            "         American Indian/Alaska Native Native Hawaiian/Other Pacific Islander    13.1765    0.9 -13512.7451  13539.098  False\n",
            "         American Indian/Alaska Native                                Unknown  2784.1084    0.9 -10381.0569 15949.2737  False\n",
            "         American Indian/Alaska Native                                  White 35466.1294  0.001  22457.3146 48474.9442   True\n",
            "                                 Asian                                  Black  6641.6667 0.7085  -6503.1663 19786.4997  False\n",
            "                                 Asian                         Multiple/Other  1424.5556    0.9 -11720.2774 14569.3885  False\n",
            "                                 Asian Native Hawaiian/Other Pacific Islander  -799.1863    0.9 -14135.9248 12537.5522  False\n",
            "                                 Asian                                Unknown  1971.7456    0.9 -10998.9759 14942.4672  False\n",
            "                                 Asian                                  White 34653.7667  0.001  21841.7683  47465.765   True\n",
            "                                 Black                         Multiple/Other -5217.1111 0.8967 -18361.9441  7927.7219  False\n",
            "                                 Black Native Hawaiian/Other Pacific Islander -7440.8529 0.6171 -20777.5915  5895.8856  False\n",
            "                                 Black                                Unknown -4669.9211    0.9 -17640.6426  8300.8005  False\n",
            "                                 Black                                  White    28012.1  0.001  15200.1016 40824.0984   True\n",
            "                        Multiple/Other Native Hawaiian/Other Pacific Islander -2223.7418    0.9 -15560.4803 11112.9967  False\n",
            "                        Multiple/Other                                Unknown   547.1901    0.9 -12423.5315 13517.9116  False\n",
            "                        Multiple/Other                                  White 33229.2111  0.001  20417.2127 46041.2095   True\n",
            "Native Hawaiian/Other Pacific Islander                                Unknown  2770.9319    0.9 -10394.2334 15936.0972  False\n",
            "Native Hawaiian/Other Pacific Islander                                  White 35452.9529  0.001  22444.1381 48461.7677   True\n",
            "                               Unknown                                  White 32682.0211  0.001  20048.7204 45315.3217   True\n",
            "-----------------------------------------------------------------------------------------------------------------------------\n"
          ]
        }
      ]
    },
    {
      "cell_type": "code",
      "metadata": {
        "colab": {
          "base_uri": "https://localhost:8080/",
          "height": 605
        },
        "id": "Fr-SsN_cJl0h",
        "outputId": "4e20bd32-e41f-4910-f75b-111acf2d6fd8"
      },
      "source": [
        "ggplot(r_df, aes(x='case_month',y='count',color='race',group = 'race')) + geom_boxplot() + theme(\n",
        "    figure_size=(15, 6))"
      ],
      "execution_count": null,
      "outputs": [
        {
          "output_type": "stream",
          "name": "stderr",
          "text": [
            "/usr/local/lib/python3.7/dist-packages/plotnine/utils.py:1246: FutureWarning: is_categorical is deprecated and will be removed in a future version.  Use is_categorical_dtype instead\n",
            "  if pdtypes.is_categorical(arr):\n",
            "/usr/local/lib/python3.7/dist-packages/plotnine/stats/stat_boxplot.py:86: FutureWarning: is_categorical is deprecated and will be removed in a future version.  Use is_categorical_dtype instead\n",
            "  if pdtypes.is_categorical(data['x']):\n"
          ]
        },
        {
          "output_type": "display_data",
          "data": {
            "image/png": "[encoded data removed]",
            "text/plain": [
              "<Figure size 1500x600 with 1 Axes>"
            ]
          },
          "metadata": {}
        },
        {
          "output_type": "execute_result",
          "data": {
            "text/plain": [
              "<ggplot: (8750628140725)>"
            ]
          },
          "metadata": {},
          "execution_count": 43
        }
      ]
    },
    {
      "cell_type": "markdown",
      "metadata": {
        "id": "2LbzvgLlGeev"
      },
      "source": [
        "**H0:deaths are more in people with underlying conditions H1:deaths are more in people without underlying conditions**"
      ]
    },
    {
      "cell_type": "code",
      "metadata": {
        "colab": {
          "base_uri": "https://localhost:8080/",
          "height": 1000
        },
        "id": "UoEHkNuBGeNU",
        "outputId": "4b7e4160-52b1-4516-f8bc-c6a95b6748e7"
      },
      "source": [
        "c_df = df.groupby(['underlying_conditions_yn','case_month']).sum('count').reset_index()\n",
        "c_df"
      ],
      "execution_count": null,
      "outputs": [
        {
          "output_type": "execute_result",
          "data": {
            "text/html": [
              "<div>\n",
              "<style scoped>\n",
              "    .dataframe tbody tr th:only-of-type {\n",
              "        vertical-align: middle;\n",
              "    }\n",
              "\n",
              "    .dataframe tbody tr th {\n",
              "        vertical-align: top;\n",
              "    }\n",
              "\n",
              "    .dataframe thead th {\n",
              "        text-align: right;\n",
              "    }\n",
              "</style>\n",
              "<table border=\"1\" class=\"dataframe\">\n",
              "  <thead>\n",
              "    <tr style=\"text-align: right;\">\n",
              "      <th></th>\n",
              "      <th>underlying_conditions_yn</th>\n",
              "      <th>case_month</th>\n",
              "      <th>count</th>\n",
              "    </tr>\n",
              "  </thead>\n",
              "  <tbody>\n",
              "    <tr>\n",
              "      <th>0</th>\n",
              "      <td>No</td>\n",
              "      <td>2020-03</td>\n",
              "      <td>2</td>\n",
              "    </tr>\n",
              "    <tr>\n",
              "      <th>1</th>\n",
              "      <td>No</td>\n",
              "      <td>2020-04</td>\n",
              "      <td>27</td>\n",
              "    </tr>\n",
              "    <tr>\n",
              "      <th>2</th>\n",
              "      <td>No</td>\n",
              "      <td>2020-05</td>\n",
              "      <td>812</td>\n",
              "    </tr>\n",
              "    <tr>\n",
              "      <th>3</th>\n",
              "      <td>No</td>\n",
              "      <td>2020-06</td>\n",
              "      <td>2317</td>\n",
              "    </tr>\n",
              "    <tr>\n",
              "      <th>4</th>\n",
              "      <td>No</td>\n",
              "      <td>2020-07</td>\n",
              "      <td>2979</td>\n",
              "    </tr>\n",
              "    <tr>\n",
              "      <th>5</th>\n",
              "      <td>No</td>\n",
              "      <td>2020-08</td>\n",
              "      <td>2061</td>\n",
              "    </tr>\n",
              "    <tr>\n",
              "      <th>6</th>\n",
              "      <td>No</td>\n",
              "      <td>2020-09</td>\n",
              "      <td>2191</td>\n",
              "    </tr>\n",
              "    <tr>\n",
              "      <th>7</th>\n",
              "      <td>No</td>\n",
              "      <td>2020-10</td>\n",
              "      <td>3760</td>\n",
              "    </tr>\n",
              "    <tr>\n",
              "      <th>8</th>\n",
              "      <td>No</td>\n",
              "      <td>2020-11</td>\n",
              "      <td>3913</td>\n",
              "    </tr>\n",
              "    <tr>\n",
              "      <th>9</th>\n",
              "      <td>No</td>\n",
              "      <td>2020-12</td>\n",
              "      <td>418</td>\n",
              "    </tr>\n",
              "    <tr>\n",
              "      <th>10</th>\n",
              "      <td>No</td>\n",
              "      <td>2021-01</td>\n",
              "      <td>1221</td>\n",
              "    </tr>\n",
              "    <tr>\n",
              "      <th>11</th>\n",
              "      <td>No</td>\n",
              "      <td>2021-02</td>\n",
              "      <td>799</td>\n",
              "    </tr>\n",
              "    <tr>\n",
              "      <th>12</th>\n",
              "      <td>No</td>\n",
              "      <td>2021-03</td>\n",
              "      <td>1090</td>\n",
              "    </tr>\n",
              "    <tr>\n",
              "      <th>13</th>\n",
              "      <td>No</td>\n",
              "      <td>2021-04</td>\n",
              "      <td>2258</td>\n",
              "    </tr>\n",
              "    <tr>\n",
              "      <th>14</th>\n",
              "      <td>No</td>\n",
              "      <td>2021-05</td>\n",
              "      <td>1207</td>\n",
              "    </tr>\n",
              "    <tr>\n",
              "      <th>15</th>\n",
              "      <td>No</td>\n",
              "      <td>2021-06</td>\n",
              "      <td>174</td>\n",
              "    </tr>\n",
              "    <tr>\n",
              "      <th>16</th>\n",
              "      <td>No</td>\n",
              "      <td>2021-07</td>\n",
              "      <td>1249</td>\n",
              "    </tr>\n",
              "    <tr>\n",
              "      <th>17</th>\n",
              "      <td>No</td>\n",
              "      <td>2021-08</td>\n",
              "      <td>1</td>\n",
              "    </tr>\n",
              "    <tr>\n",
              "      <th>18</th>\n",
              "      <td>Yes</td>\n",
              "      <td>2020-01</td>\n",
              "      <td>9</td>\n",
              "    </tr>\n",
              "    <tr>\n",
              "      <th>19</th>\n",
              "      <td>Yes</td>\n",
              "      <td>2020-02</td>\n",
              "      <td>29</td>\n",
              "    </tr>\n",
              "    <tr>\n",
              "      <th>20</th>\n",
              "      <td>Yes</td>\n",
              "      <td>2020-03</td>\n",
              "      <td>37838</td>\n",
              "    </tr>\n",
              "    <tr>\n",
              "      <th>21</th>\n",
              "      <td>Yes</td>\n",
              "      <td>2020-04</td>\n",
              "      <td>70220</td>\n",
              "    </tr>\n",
              "    <tr>\n",
              "      <th>22</th>\n",
              "      <td>Yes</td>\n",
              "      <td>2020-05</td>\n",
              "      <td>41504</td>\n",
              "    </tr>\n",
              "    <tr>\n",
              "      <th>23</th>\n",
              "      <td>Yes</td>\n",
              "      <td>2020-06</td>\n",
              "      <td>44690</td>\n",
              "    </tr>\n",
              "    <tr>\n",
              "      <th>24</th>\n",
              "      <td>Yes</td>\n",
              "      <td>2020-07</td>\n",
              "      <td>60068</td>\n",
              "    </tr>\n",
              "    <tr>\n",
              "      <th>25</th>\n",
              "      <td>Yes</td>\n",
              "      <td>2020-08</td>\n",
              "      <td>43988</td>\n",
              "    </tr>\n",
              "    <tr>\n",
              "      <th>26</th>\n",
              "      <td>Yes</td>\n",
              "      <td>2020-09</td>\n",
              "      <td>48769</td>\n",
              "    </tr>\n",
              "    <tr>\n",
              "      <th>27</th>\n",
              "      <td>Yes</td>\n",
              "      <td>2020-10</td>\n",
              "      <td>90189</td>\n",
              "    </tr>\n",
              "    <tr>\n",
              "      <th>28</th>\n",
              "      <td>Yes</td>\n",
              "      <td>2020-11</td>\n",
              "      <td>137526</td>\n",
              "    </tr>\n",
              "    <tr>\n",
              "      <th>29</th>\n",
              "      <td>Yes</td>\n",
              "      <td>2020-12</td>\n",
              "      <td>134730</td>\n",
              "    </tr>\n",
              "    <tr>\n",
              "      <th>30</th>\n",
              "      <td>Yes</td>\n",
              "      <td>2021-01</td>\n",
              "      <td>95973</td>\n",
              "    </tr>\n",
              "    <tr>\n",
              "      <th>31</th>\n",
              "      <td>Yes</td>\n",
              "      <td>2021-02</td>\n",
              "      <td>38516</td>\n",
              "    </tr>\n",
              "    <tr>\n",
              "      <th>32</th>\n",
              "      <td>Yes</td>\n",
              "      <td>2021-03</td>\n",
              "      <td>33892</td>\n",
              "    </tr>\n",
              "    <tr>\n",
              "      <th>33</th>\n",
              "      <td>Yes</td>\n",
              "      <td>2021-04</td>\n",
              "      <td>33764</td>\n",
              "    </tr>\n",
              "    <tr>\n",
              "      <th>34</th>\n",
              "      <td>Yes</td>\n",
              "      <td>2021-05</td>\n",
              "      <td>15534</td>\n",
              "    </tr>\n",
              "    <tr>\n",
              "      <th>35</th>\n",
              "      <td>Yes</td>\n",
              "      <td>2021-06</td>\n",
              "      <td>4667</td>\n",
              "    </tr>\n",
              "    <tr>\n",
              "      <th>36</th>\n",
              "      <td>Yes</td>\n",
              "      <td>2021-07</td>\n",
              "      <td>15571</td>\n",
              "    </tr>\n",
              "    <tr>\n",
              "      <th>37</th>\n",
              "      <td>Yes</td>\n",
              "      <td>2021-08</td>\n",
              "      <td>87</td>\n",
              "    </tr>\n",
              "  </tbody>\n",
              "</table>\n",
              "</div>"
            ],
            "text/plain": [
              "   underlying_conditions_yn case_month   count\n",
              "0                        No    2020-03       2\n",
              "1                        No    2020-04      27\n",
              "2                        No    2020-05     812\n",
              "3                        No    2020-06    2317\n",
              "4                        No    2020-07    2979\n",
              "5                        No    2020-08    2061\n",
              "6                        No    2020-09    2191\n",
              "7                        No    2020-10    3760\n",
              "8                        No    2020-11    3913\n",
              "9                        No    2020-12     418\n",
              "10                       No    2021-01    1221\n",
              "11                       No    2021-02     799\n",
              "12                       No    2021-03    1090\n",
              "13                       No    2021-04    2258\n",
              "14                       No    2021-05    1207\n",
              "15                       No    2021-06     174\n",
              "16                       No    2021-07    1249\n",
              "17                       No    2021-08       1\n",
              "18                      Yes    2020-01       9\n",
              "19                      Yes    2020-02      29\n",
              "20                      Yes    2020-03   37838\n",
              "21                      Yes    2020-04   70220\n",
              "22                      Yes    2020-05   41504\n",
              "23                      Yes    2020-06   44690\n",
              "24                      Yes    2020-07   60068\n",
              "25                      Yes    2020-08   43988\n",
              "26                      Yes    2020-09   48769\n",
              "27                      Yes    2020-10   90189\n",
              "28                      Yes    2020-11  137526\n",
              "29                      Yes    2020-12  134730\n",
              "30                      Yes    2021-01   95973\n",
              "31                      Yes    2021-02   38516\n",
              "32                      Yes    2021-03   33892\n",
              "33                      Yes    2021-04   33764\n",
              "34                      Yes    2021-05   15534\n",
              "35                      Yes    2021-06    4667\n",
              "36                      Yes    2021-07   15571\n",
              "37                      Yes    2021-08      87"
            ]
          },
          "metadata": {},
          "execution_count": 45
        }
      ]
    },
    {
      "cell_type": "code",
      "metadata": {
        "id": "XudfQf0bG4iy"
      },
      "source": [
        "c1_df = c_df.loc[(c_df['underlying_conditions_yn'].isin(['Yes'])),\n",
        "                    ['case_month','underlying_conditions_yn','count']]\n",
        "c2_df = c_df.loc[(c_df['underlying_conditions_yn'].isin(['No'])),\n",
        "                    ['case_month','underlying_conditions_yn','count']]"
      ],
      "execution_count": null,
      "outputs": []
    },
    {
      "cell_type": "code",
      "metadata": {
        "colab": {
          "base_uri": "https://localhost:8080/"
        },
        "id": "pXRW1yutJ-Kb",
        "outputId": "10eb537e-401a-4fb3-ef87-07e337927b0b"
      },
      "source": [
        "fvalue, pvalue = stats.f_oneway(c1_df['count'],c2_df['count'])\n",
        "print(fvalue, pvalue)"
      ],
      "execution_count": null,
      "outputs": [
        {
          "output_type": "stream",
          "name": "stdout",
          "text": [
            "22.585207238236272 3.193951128253401e-05\n"
          ]
        }
      ]
    },
    {
      "cell_type": "code",
      "metadata": {
        "colab": {
          "base_uri": "https://localhost:8080/",
          "height": 625
        },
        "id": "W_wIYJyyJ02n",
        "outputId": "1d826953-90f0-4ddb-fbc4-3728a5ecb88e"
      },
      "source": [
        "ggplot(c_df, aes(x='case_month',y='count',color='underlying_conditions_yn',group = 'underlying_conditions_yn')) + geom_boxplot() + theme(\n",
        "    figure_size=(15, 6))"
      ],
      "execution_count": null,
      "outputs": [
        {
          "output_type": "stream",
          "name": "stderr",
          "text": [
            "/usr/local/lib/python3.7/dist-packages/plotnine/utils.py:1246: FutureWarning: is_categorical is deprecated and will be removed in a future version.  Use is_categorical_dtype instead\n",
            "  if pdtypes.is_categorical(arr):\n",
            "/usr/local/lib/python3.7/dist-packages/plotnine/stats/stat_boxplot.py:86: FutureWarning: is_categorical is deprecated and will be removed in a future version.  Use is_categorical_dtype instead\n",
            "  if pdtypes.is_categorical(data['x']):\n"
          ]
        },
        {
          "output_type": "display_data",
          "data": {
            "image/png": "[encoded data removed]",
            "text/plain": [
              "<Figure size 1500x600 with 1 Axes>"
            ]
          },
          "metadata": {}
        },
        {
          "output_type": "execute_result",
          "data": {
            "text/plain": [
              "<ggplot: (8750628170449)>"
            ]
          },
          "metadata": {},
          "execution_count": 48
        }
      ]
    }
  ]
}